{
 "cells": [
  {
   "attachments": {},
   "cell_type": "markdown",
   "metadata": {},
   "source": [
    "# <span style=\"color:darkblue\"> Lecture 2: Variables and Lists </span>"
   ]
  },
  {
   "attachments": {},
   "cell_type": "markdown",
   "metadata": {},
   "source": [
    "<font size=\"5\"> \n",
    "\n",
    "In the previous class we:\n",
    "- Reviewed the basics of Github\n",
    "- Reviewed the basic structure of Jupyter notebooks\n",
    "- Showed how to install and import packages using <br>\n",
    " **virtual environments**"
   ]
  },
  {
   "attachments": {},
   "cell_type": "markdown",
   "metadata": {},
   "source": [
    "<font size=\"5\"> \n",
    "\n",
    "In this class we will:\n",
    "\n",
    "- Introduce variables and lists\n",
    "- Compute a histogram plot\n",
    "- (Optional) Common pitfalls and understanding errors"
   ]
  },
  {
   "attachments": {},
   "cell_type": "markdown",
   "metadata": {},
   "source": [
    "# <span style=\"color:darkblue\"> 1. Import Libraries </span>"
   ]
  },
  {
   "cell_type": "code",
   "execution_count": 1,
   "metadata": {},
   "outputs": [],
   "source": [
    "# The matplotlib library is used to create graphs\n",
    "\n",
    "import matplotlib.pyplot as plt"
   ]
  },
  {
   "attachments": {},
   "cell_type": "markdown",
   "metadata": {},
   "source": [
    "## "
   ]
  },
  {
   "attachments": {},
   "cell_type": "markdown",
   "metadata": {},
   "source": [
    "# <span style=\"color:darkblue\"> 2. Variables and Data Types </span>"
   ]
  },
  {
   "attachments": {},
   "cell_type": "markdown",
   "metadata": {},
   "source": [
    "<font size=\"5\"> \n",
    "\n",
    "Identify the type of object\n",
    "- Integers, Floats (numbers with decimals) or strings (text)\n",
    "- Type is a function, with an argument in parenthesis (...)"
   ]
  },
  {
   "cell_type": "code",
   "execution_count": 2,
   "metadata": {},
   "outputs": [
    {
     "data": {
      "text/plain": [
       "int"
      ]
     },
     "execution_count": 2,
     "metadata": {},
     "output_type": "execute_result"
    }
   ],
   "source": [
    "type(3)"
   ]
  },
  {
   "cell_type": "code",
   "execution_count": 3,
   "metadata": {},
   "outputs": [
    {
     "data": {
      "text/plain": [
       "float"
      ]
     },
     "execution_count": 3,
     "metadata": {},
     "output_type": "execute_result"
    }
   ],
   "source": [
    "type(3.5)"
   ]
  },
  {
   "cell_type": "code",
   "execution_count": 4,
   "metadata": {},
   "outputs": [
    {
     "name": "stdout",
     "output_type": "stream",
     "text": [
      "<class 'int'>\n",
      "<class 'str'>\n"
     ]
    }
   ],
   "source": [
    "print(type(3))\n",
    "print(type(\"Juans car\"))"
   ]
  },
  {
   "cell_type": "code",
   "execution_count": 5,
   "metadata": {},
   "outputs": [
    {
     "data": {
      "text/plain": [
       "str"
      ]
     },
     "execution_count": 5,
     "metadata": {},
     "output_type": "execute_result"
    }
   ],
   "source": [
    "# You can define strings with either single or double quotations.\n",
    "type(\"hello\")\n"
   ]
  },
  {
   "cell_type": "code",
   "execution_count": 5,
   "metadata": {},
   "outputs": [
    {
     "data": {
      "text/plain": [
       "str"
      ]
     },
     "execution_count": 5,
     "metadata": {},
     "output_type": "execute_result"
    }
   ],
   "source": [
    "type('hello')"
   ]
  },
  {
   "attachments": {},
   "cell_type": "markdown",
   "metadata": {},
   "source": [
    "<font size=\"5\"> \n",
    "\n",
    "Store Variables in memory\n",
    "\n",
    "- Assign variables with \"=\"\n",
    "- Write meaningful names, without spaces\n",
    "- Can use underscore \"_\"\n",
    "- Click \"Variables\" in the top panel of Jupyter Notebooks"
   ]
  },
  {
   "cell_type": "code",
   "execution_count": 8,
   "metadata": {},
   "outputs": [],
   "source": [
    "# Try choosing your names on the left of \"=\"\n",
<<<<<<< Updated upstream
    "\n",
    "name = \"Alejandro\"\n",
    "last_name = \"Sanchez\"\n"
=======
    "name = \"Christina\"\n",
    "last_name = \"Dai\""
   ]
  },
  {
   "cell_type": "code",
   "execution_count": 7,
   "metadata": {},
   "outputs": [],
   "source": [
    "# You can show the output by writing the name of the variable\n",
    "# Try including different variables\n"
>>>>>>> Stashed changes
   ]
  },
  {
   "cell_type": "code",
   "execution_count": 8,
   "metadata": {},
   "outputs": [],
   "source": [
    "number3 = 3\n",
    "number3andhalf = 3.5"
   ]
  },
  {
   "cell_type": "code",
   "execution_count": 9,
   "metadata": {},
   "outputs": [
    {
     "data": {
      "text/plain": [
       "'Alejandro'"
      ]
     },
     "execution_count": 9,
     "metadata": {},
     "output_type": "execute_result"
    }
   ],
   "source": [
    "# You can show the output by writing the name of the variable\n",
    "# Try including different variables\n",
    "\n",
    "name\n"
   ]
  },
  {
   "cell_type": "code",
   "execution_count": 11,
   "metadata": {},
   "outputs": [],
   "source": [
    "number3 = 3\n",
    "number3andhalf = 3.5"
   ]
  },
  {
   "cell_type": "code",
   "execution_count": null,
   "metadata": {},
   "outputs": [
    {
     "ename": "NameError",
     "evalue": "name 'number3asd' is not defined",
     "output_type": "error",
     "traceback": [
      "\u001b[0;31m---------------------------------------------------------------------------\u001b[0m",
      "\u001b[0;31mNameError\u001b[0m                                 Traceback (most recent call last)",
      "Cell \u001b[0;32mIn[13], line 4\u001b[0m\n\u001b[1;32m      1\u001b[0m \u001b[38;5;66;03m# Jupyter only shows the output for the last object\u001b[39;00m\n\u001b[1;32m      2\u001b[0m \u001b[38;5;66;03m# You can show multiple outputs by using the function \"print\"\u001b[39;00m\n\u001b[0;32m----> 4\u001b[0m \u001b[38;5;28mprint\u001b[39m(\u001b[43mnumber3asd\u001b[49m)\n\u001b[1;32m      5\u001b[0m \u001b[38;5;28mprint\u001b[39m(number3andhalf)\n",
      "\u001b[0;31mNameError\u001b[0m: name 'number3asd' is not defined"
     ]
    }
   ],
   "source": [
    "# Jupyter only shows the output for the last object\n",
    "# You can show multiple outputs by using the function \"print\"\n",
    "\n",
    "print(number3asd)\n",
    "print(number3andhalf)"
   ]
  },
  {
   "cell_type": "markdown",
   "metadata": {},
   "source": [
    "<font size = \"5\">\n",
    "\n",
    "Try it yourself!\n",
    "\n",
    "- Create a variable with your favorite movie"
   ]
  },
  {
   "cell_type": "code",
   "execution_count": 14,
   "metadata": {},
   "outputs": [
    {
     "name": "stdout",
     "output_type": "stream",
     "text": [
      "La La Land\n"
     ]
    }
   ],
   "source": [
    "# Write your own code\n",
    "\n",
<<<<<<< Updated upstream
    "favoritemovie1 = \"10 things I hate about you\"\n",
    "favoritemovie2 = \"Incantation\"\n",
    "favoritemovie3 = \"La La Land\"\n",
    "3\n",
=======
    "favoritemovie1 = \"La La Land\"\n",
    "print(favoritemovie1)\n",
>>>>>>> Stashed changes
    "\n"
   ]
  },
  {
   "cell_type": "markdown",
   "metadata": {},
   "source": [
    "# <span style=\"color:darkblue\"> 3. Basic operations on integers, floats, and strings </span>"
   ]
  },
  {
   "attachments": {},
   "cell_type": "markdown",
   "metadata": {},
   "source": [
    "<font size=\"5\"> \n",
    "\n",
    "\n",
    "\n",
    "- Addition (+), Multiplication (*), Subtraction (-),<br>\n",
    " Division (/), Exponentiation (**)\n",
    "- If you try this on a string it will not work"
   ]
  },
  {
   "cell_type": "code",
   "execution_count": 18,
   "metadata": {},
   "outputs": [
    {
     "name": "stdout",
     "output_type": "stream",
     "text": [
      "5\n",
<<<<<<< Updated upstream
      "6\n",
      "-1\n",
      "0.6666666666666666\n",
=======
      "2.0\n",
>>>>>>> Stashed changes
      "8\n"
     ]
    }
   ],
   "source": [
    "# Basic operations on numbers\n",
<<<<<<< Updated upstream
    "\n",
    "print(2+3)\n",
    "print(2*3)\n",
    "print(2-3)\n",
    "print(2/3)\n",
    "print((2)**(3))\n"
   ]
  },
  {
   "cell_type": "code",
   "execution_count": 19,
   "metadata": {},
   "outputs": [
    {
     "data": {
      "text/plain": [
       "8"
      ]
     },
     "execution_count": 19,
     "metadata": {},
     "output_type": "execute_result"
    }
   ],
   "source": [
    "2+3\n",
    "2*3\n",
    "2-3\n",
    "2/3\n",
    "2**3"
=======
    "print(4+1)\n",
    "print(4/2)\n",
    "print(4*2)"
>>>>>>> Stashed changes
   ]
  },
  {
   "attachments": {},
   "cell_type": "markdown",
   "metadata": {},
   "source": [
    "<font size=\"5\"> \n",
    "\n",
    "Use parenthesis for composite operations"
   ]
  },
  {
   "cell_type": "code",
   "execution_count": 20,
   "metadata": {},
   "outputs": [
    {
     "data": {
      "text/plain": [
       "1.4"
      ]
     },
     "execution_count": 20,
     "metadata": {},
     "output_type": "execute_result"
    }
   ],
   "source": [
    "(3 + 4) / 5"
   ]
  },
  {
   "cell_type": "code",
   "execution_count": 22,
   "metadata": {},
   "outputs": [
    {
     "data": {
      "text/plain": [
<<<<<<< Updated upstream
       "3.25"
=======
       "6.5"
>>>>>>> Stashed changes
      ]
     },
     "execution_count": 22,
     "metadata": {},
     "output_type": "execute_result"
    }
   ],
   "source": [
    "# Try doing the same with the variable \"number3\" or \"number3andhalf instead.\n",
<<<<<<< Updated upstream
    "\n",
    "(number3 + number3andhalf) /2"
=======
    "(number3andhalf+number3)"
>>>>>>> Stashed changes
   ]
  },
  {
   "attachments": {},
   "cell_type": "markdown",
   "metadata": {},
   "source": [
    "<font size=\"5\"> \n",
    "\n",
    "Concatenate \"add\" two strings"
   ]
  },
  {
   "cell_type": "code",
   "execution_count": 26,
   "metadata": {},
   "outputs": [
    {
     "data": {
      "text/plain": [
<<<<<<< Updated upstream
       "'My name is Alejandro Sanchez Becerra'"
=======
       "'My name is Christina Dai'"
>>>>>>> Stashed changes
      ]
     },
     "execution_count": 26,
     "metadata": {},
     "output_type": "execute_result"
    }
   ],
   "source": [
    "# Use the + symbol to concatenate two or more strings\n",
    "# This is very useful to contract strings where one part stays the same,\n",
    "# and the other is a user input.\n",
    "\n",
<<<<<<< Updated upstream
    "first_name = \"Alejandro\"\n",
    "last_name = \"Sanchez Becerra\"\n",
    "\n",
    "\"My name is\" + \" \"  + first_name + \" \" + last_name"
=======
    "name = \"Christina\"\n",
    "last_name = \"Dai\"\n",
    "\n",
    "\"My name is\" + \" \"  + name + \" \" + last_name"
>>>>>>> Stashed changes
   ]
  },
  {
   "cell_type": "markdown",
   "metadata": {},
   "source": [
    "<font size = \"5\">\n",
    "\n",
    "Try it yourself!\n",
    "\n",
    "- Define a variable with your name.\n",
    "- Define a new variable with your major.\n",
    "- Print a concantenated string with your name and major\n"
   ]
  },
  {
   "cell_type": "code",
   "execution_count": 27,
   "metadata": {},
   "outputs": [
    {
<<<<<<< Updated upstream
     "name": "stdout",
     "output_type": "stream",
     "text": [
      "I am Joanna majoring in Neuroscience\n"
     ]
=======
     "data": {
      "text/plain": [
       "'My name is Christina and I am a QSS major.'"
      ]
     },
     "execution_count": 15,
     "metadata": {},
     "output_type": "execute_result"
>>>>>>> Stashed changes
    }
   ],
   "source": [
    "#  Write your own code here\n",
    "\n",
<<<<<<< Updated upstream
    "name = \"Joanna\"\n",
    "major = \"Neuroscience\"\n",
    "\n",
    "print(\"I am \" + name + \" majoring in \" + major)\n"
=======
    "name = \"Christina\"\n",
    "major = \"QSS\" \n",
    "\n",
    "\"My name is \" + name + \" and I am a \" + major + \" major.\""
>>>>>>> Stashed changes
   ]
  },
  {
   "attachments": {},
   "cell_type": "markdown",
   "metadata": {},
   "source": [
    "# <span style=\"color:darkblue\"> Lists </span>"
   ]
  },
  {
   "attachments": {},
   "cell_type": "markdown",
   "metadata": {},
   "source": [
    "<font size=\"5\"> \n",
    "\n",
    "Store Lists\n",
    "\n",
    "- Lists are always denote by square brackets [...]\n",
    "- Elements separated by commas"
   ]
  },
  {
   "cell_type": "code",
   "execution_count": 28,
   "metadata": {},
   "outputs": [],
   "source": [
    "# List of numbers\n",
    "# Example: Suppose you ask 5 people about their favorite color. The results:\n",
    "list_numbers = [1,2,3,4,5]\n",
    "list_numbers_sqr = [1,4,9,16,25]"
   ]
  },
  {
   "cell_type": "code",
   "execution_count": 29,
   "metadata": {},
   "outputs": [
    {
     "data": {
      "text/plain": [
       "list"
      ]
     },
     "execution_count": 29,
     "metadata": {},
     "output_type": "execute_result"
    }
   ],
   "source": [
    "type(list_numbers) # This classifies the variable as a list"
   ]
  },
  {
   "cell_type": "code",
   "execution_count": 31,
   "metadata": {},
   "outputs": [],
   "source": [
    "# List with strings\n",
    "# Example: Suppose you ask 5 people about their favorite color. The results:\n",
    "list_colors = [\"red\",\"yellow\",\"yellow\", \"green\",\"red\"]"
   ]
  },
  {
   "cell_type": "code",
   "execution_count": 32,
   "metadata": {},
   "outputs": [],
   "source": [
    "# List with mixed types\n",
    "list_mixed = [\"red\",1,\"yellow\",4,5, 3.5]"
   ]
  },
  {
   "cell_type": "code",
   "execution_count": 34,
   "metadata": {},
   "outputs": [
    {
     "data": {
      "text/plain": [
       "[['red', 1, 'yellow', 4, 5, 3.5], 3, 'h']"
      ]
     },
     "execution_count": 34,
     "metadata": {},
     "output_type": "execute_result"
    }
   ],
   "source": [
    "another_list = [list_mixed, 3, 'h']\n",
    "another_list"
   ]
  },
  {
   "attachments": {},
   "cell_type": "markdown",
   "metadata": {},
   "source": [
    "<font size=\"5\">\n",
    "\n",
    "Extract individual elements from a list\n",
    "\n",
    "- Use square brackets, e.g. list_colors[2]\n",
    "- Python lists always start at the **ZERO** position\n",
    "\n",
    "\n",
    "<img src=\"figures/house_diagram.png\" alt=\"drawing\" width=\"650\"/>"
   ]
  },
  {
   "cell_type": "code",
   "execution_count": 39,
   "metadata": {},
   "outputs": [
    {
     "data": {
      "text/plain": [
       "'ground'"
      ]
     },
     "execution_count": 39,
     "metadata": {},
     "output_type": "execute_result"
    }
   ],
   "source": [
    "floors_england = [\"ground\", \"floor1\", \"floor2\" ]\n",
    "\n",
    "floors_england[0] # starts counting from 0"
   ]
  },
  {
   "cell_type": "code",
   "execution_count": 40,
   "metadata": {},
   "outputs": [
    {
     "data": {
      "text/plain": [
       "[['red', 1, 'yellow', 4, 5, 3.5], 3, 'h']"
      ]
     },
     "execution_count": 40,
     "metadata": {},
     "output_type": "execute_result"
    }
   ],
   "source": [
    "another_list"
   ]
  },
  {
   "cell_type": "code",
   "execution_count": 41,
   "metadata": {},
   "outputs": [
    {
     "data": {
      "text/plain": [
       "'yellow'"
      ]
     },
     "execution_count": 41,
     "metadata": {},
     "output_type": "execute_result"
    }
   ],
   "source": [
    "another_list[0][2]"
   ]
  },
  {
   "cell_type": "code",
   "execution_count": 42,
   "metadata": {},
   "outputs": [
    {
     "name": "stdout",
     "output_type": "stream",
     "text": [
      "red\n",
      "yellow\n",
      "yellow\n",
      "green\n",
      "red\n"
     ]
    }
   ],
   "source": [
    "# Use print to show the output of multiple commands\n",
    "print(list_colors[0])\n",
    "print(list_colors[1])\n",
    "print(list_colors[2])\n",
    "print(list_colors[3])\n",
    "print(list_colors[4])"
   ]
  },
  {
   "cell_type": "code",
   "execution_count": 43,
   "metadata": {},
   "outputs": [
    {
     "data": {
      "text/plain": [
       "['red', 'yellow', 'yellow', 'green', 'red']"
      ]
     },
     "execution_count": 43,
     "metadata": {},
     "output_type": "execute_result"
    }
   ],
   "source": [
    "list_colors"
   ]
  },
  {
   "cell_type": "markdown",
   "metadata": {},
   "source": [
    "<font size = \"5\">\n",
    "\n",
    "Try it yourself!\n",
    "\n",
    "- Create a list with four elements, <br>\n",
    " and then selecting the third entry\n",
    "\n"
   ]
  },
  {
   "cell_type": "code",
   "execution_count": 26,
   "metadata": {},
   "outputs": [
    {
     "name": "stdout",
     "output_type": "stream",
     "text": [
      "teal\n"
     ]
    }
   ],
   "source": [
    "# Write your own code here\n",
    "\n",
    "my_list = [\"pink\", \"green\", \"teal\", \"magenta\"]\n",
    "\n",
    "print(my_list[2])\n",
    "\n"
   ]
  },
  {
   "attachments": {},
   "cell_type": "markdown",
   "metadata": {},
   "source": [
    "# <span style=\"color:darkblue\"> Visualizing Lists </span>"
   ]
  },
  {
   "attachments": {},
   "cell_type": "markdown",
   "metadata": {},
   "source": [
    "<font size=\"5\"> \n",
    "\n",
    "A histogram for categorical data"
   ]
  },
  {
   "cell_type": "code",
   "execution_count": 45,
   "metadata": {},
   "outputs": [
    {
     "data": {
      "text/plain": [
       "['red', 'yellow', 'yellow', 'green', 'red', 'red']"
      ]
     },
     "execution_count": 45,
     "metadata": {},
     "output_type": "execute_result"
    }
   ],
   "source": [
    "list_list = list_colors + ['red']\n",
    "\n",
    "list_list"
   ]
  },
  {
   "cell_type": "code",
   "execution_count": 28,
   "metadata": {},
   "outputs": [
    {
     "data": {
      "text/plain": [
       "(array([3., 0., 0., 0., 0., 2., 0., 0., 0., 1.]),\n",
       " array([0. , 0.2, 0.4, 0.6, 0.8, 1. , 1.2, 1.4, 1.6, 1.8, 2. ]),\n",
       " <BarContainer object of 10 artists>)"
      ]
     },
     "execution_count": 28,
     "metadata": {},
     "output_type": "execute_result"
    },
    {
     "data": {
      "image/png": "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",
      "text/plain": [
       "<Figure size 640x480 with 1 Axes>"
      ]
     },
     "metadata": {},
     "output_type": "display_data"
    }
   ],
   "source": [
    "# This creates a histogram with the \"list_colors\"\n",
    "plt.hist(x= list_list)"
   ]
  },
  {
   "cell_type": "code",
   "execution_count": 32,
   "metadata": {},
   "outputs": [
    {
     "data": {
      "text/plain": [
       "(array([2., 0., 0., 1., 0., 0., 1., 0., 0., 3.]),\n",
       " array([0. , 0.3, 0.6, 0.9, 1.2, 1.5, 1.8, 2.1, 2.4, 2.7, 3. ]),\n",
       " <BarContainer object of 10 artists>)"
      ]
     },
     "execution_count": 32,
     "metadata": {},
     "output_type": "execute_result"
    },
    {
     "data": {
      "image/png": "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",
      "text/plain": [
       "<Figure size 640x480 with 1 Axes>"
      ]
     },
     "metadata": {},
     "output_type": "display_data"
    }
   ],
   "source": [
    "# Create a list with repeated string values\n",
    "# Compute your own histogram\n",
    "\n",
    "my_own_list = my_list + (2*['magenta']) + ['pink']\n",
    "\n",
    "plt.hist(x= my_own_list)"
   ]
  },
  {
   "attachments": {},
   "cell_type": "markdown",
   "metadata": {},
   "source": [
    "<font size=\"5\"> \n",
    "\n",
    "A scatterplot for continuous data"
   ]
  },
  {
   "cell_type": "code",
<<<<<<< Updated upstream
   "execution_count": 46,
=======
   "execution_count": 33,
>>>>>>> Stashed changes
   "metadata": {},
   "outputs": [
    {
     "name": "stdout",
     "output_type": "stream",
     "text": [
      "[1, 2, 3, 4, 5]\n",
      "[1, 4, 9, 16, 25]\n"
     ]
    }
   ],
   "source": [
    "print(list(list_numbers))\n",
    "print(list_numbers_sqr)"
   ]
  },
  {
   "cell_type": "code",
<<<<<<< Updated upstream
   "execution_count": 47,
=======
   "execution_count": 34,
>>>>>>> Stashed changes
   "metadata": {},
   "outputs": [
    {
     "data": {
      "text/plain": [
       "list"
      ]
     },
<<<<<<< Updated upstream
     "execution_count": 47,
=======
     "execution_count": 34,
>>>>>>> Stashed changes
     "metadata": {},
     "output_type": "execute_result"
    }
   ],
   "source": [
    "type(list_numbers) # This classifies the variable as a list"
   ]
  },
  {
   "cell_type": "code",
<<<<<<< Updated upstream
   "execution_count": 51,
=======
   "execution_count": 35,
>>>>>>> Stashed changes
   "metadata": {},
   "outputs": [
    {
     "data": {
<<<<<<< Updated upstream
      "image/png": "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",
=======
      "image/png": "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",
>>>>>>> Stashed changes
      "text/plain": [
       "<Figure size 640x480 with 1 Axes>"
      ]
     },
     "metadata": {},
     "output_type": "display_data"
    }
   ],
   "source": [
    "plt.scatter(x = list_numbers, y = list_numbers_sqr)\n",
    "plt.xlabel(\"A meaningful name for the X-axis\")\n",
    "plt.ylabel(\"Favourite name for Y-axis\")\n",
    "plt.show()\n"
   ]
  },
  {
   "cell_type": "markdown",
   "metadata": {},
   "source": [
    "<font size = \"5\">\n",
    "\n",
    "Try it yourself!\n",
    "\n",
    "- Create a list with numbers, then create <br>\n",
    "your own scatter plot\n",
    "\n"
   ]
  },
  {
   "cell_type": "code",
   "execution_count": 37,
   "metadata": {},
   "outputs": [
    {
     "name": "stdout",
     "output_type": "stream",
     "text": [
      "[2, 2, 3, 5, 6, 7, 9, 11, 15, 22, 46]\n",
      "[4, 4, 9, 25, 36, 49, 81, 121, 225, 484, 2116]\n"
     ]
    },
    {
     "data": {
      "image/png": "iVBORw0KGgoAAAANSUhEUgAAAkQAAAGwCAYAAABIC3rIAAAAOXRFWHRTb2Z0d2FyZQBNYXRwbG90bGliIHZlcnNpb24zLjkuMiwgaHR0cHM6Ly9tYXRwbG90bGliLm9yZy8hTgPZAAAACXBIWXMAAA9hAAAPYQGoP6dpAABAJklEQVR4nO3deVyU5f7/8feAgKIwgcqWqKhoEVqpaZippZia+7fs5JKlLVZuqdnxlD+109H0nKNWnkxbtLKO9S2tbLEwt8o1lBQ1tzA3CFMcwAUUrt8fPphvI2qMzgLO6/l4zOPhXPc193xmbmveXvd13bfFGGMEAADgw/y8XQAAAIC3EYgAAIDPIxABAACfRyACAAA+j0AEAAB8HoEIAAD4PAIRAADweZW8XUBFUVxcrMOHDyskJEQWi8Xb5QAAgDIwxigvL08xMTHy87v4OBCBqIwOHz6s2NhYb5cBAAAuw4EDB1SrVq2LbicQlVFISIikc19oaGiol6sBAABlkZubq9jYWPvv+MUQiMqo5DRZaGgogQgAgArmz6a7MKkaAAD4PAIRAADweQQiAADg8whEAADA5xGIAACAzyMQAQAAn0cgAgAAPo9ABAAAfB6BCAAA+DyuVA0AALymqNhoQ8YxZeedVkRIZbWIC5e/n+dvok4gAgAAXrE0PVOTlmxXpu20vS3aWlkTuiWoU2K0R2vhlBkAAPC4pemZenzBJocwJElZttN6fMEmLU3P9Gg9BCIAAOBRRcVGk5Zsl7nAtpK2SUu2q6j4Qj3cg0AEAAA8akPGsVIjQ39kJGXaTmtDxjGP1UQgAgAAHpWdd/EwdDn9XIFABAAAPCoipLJL+7kCgQgAAHhUi7hwRVsr62KL6y06t9qsRVy4x2oiEAEAAI/y97NoQrcESSoVikqeT+iW4NHrERGIAACAx3VKjNbs/k0VZXU8LRZlrazZ/Zt6/DpEXJgRAAB4RafEaCUnRHGlagAA4Nv8/SxKql/d22VwygwAAIBABAAAfB6BCAAA+DwCEQAA8HkEIgAA4PMIRAAAwOcRiAAAgM8jEAEAAJ/n1UA0ZcoU3XLLLQoJCVFERIR69uypnTt3OvQxxmjixImKiYlRlSpV1K5dO23bts2hT0FBgYYNG6YaNWqoatWq6t69uw4ePOjQJycnRwMGDJDVapXVatWAAQN0/Phxd39EAABQAXg1EK1atUpPPvmk1q1bp5SUFJ09e1YdO3bUiRMn7H2mTZum6dOna9asWdq4caOioqKUnJysvLw8e5+RI0dq8eLFWrhwob7//nvl5+era9euKioqsvfp27ev0tLStHTpUi1dulRpaWkaMGCARz8vAAAonyzGGOPtIkocOXJEERERWrVqldq0aSNjjGJiYjRy5Eg988wzks6NBkVGRmrq1Kl67LHHZLPZVLNmTb377ru67777JEmHDx9WbGysvvzyS911113asWOHEhIStG7dOrVs2VKStG7dOiUlJennn39Wo0aNStVSUFCggoIC+/Pc3FzFxsbKZrMpNDTUA98GAAC4Urm5ubJarX/6+12u5hDZbDZJUnh4uCQpIyNDWVlZ6tixo71PUFCQ2rZtqzVr1kiSUlNTdebMGYc+MTExSkxMtPdZu3atrFarPQxJ0q233iqr1Wrvc74pU6bYT69ZrVbFxsa69sMCAIByo9wEImOMRo0apdatWysxMVGSlJWVJUmKjIx06BsZGWnflpWVpcDAQIWFhV2yT0RERKn3jIiIsPc537hx42Sz2eyPAwcOXNkHBAAA5Va5udv90KFDtWXLFn3//feltlksFofnxphSbec7v8+F+l9qP0FBQQoKCipL6QAAoIIrFyNEw4YN02effaYVK1aoVq1a9vaoqChJKjWKk52dbR81ioqKUmFhoXJyci7Z57fffiv1vkeOHCk1+gQAAHyPVwORMUZDhw7VokWLtHz5csXFxTlsj4uLU1RUlFJSUuxthYWFWrVqlVq1aiVJatasmQICAhz6ZGZmKj093d4nKSlJNptNGzZssPdZv369bDabvQ8AAPBdXj1l9uSTT+r999/Xp59+qpCQEPtIkNVqVZUqVWSxWDRy5EhNnjxZ8fHxio+P1+TJkxUcHKy+ffva+w4ePFijR49W9erVFR4erjFjxqhx48bq0KGDJOn6669Xp06d9Mgjj2jOnDmSpEcffVRdu3a94AozAADgW7waiGbPni1JateunUP7vHnz9OCDD0qSxo4dq1OnTumJJ55QTk6OWrZsqW+++UYhISH2/jNmzFClSpXUp08fnTp1Su3bt9f8+fPl7+9v7/Pee+9p+PDh9tVo3bt316xZs9z7AQEAQIVQrq5DVJ6V9ToGAACg/KiQ1yECAADwBgIRAADweQQiAADg8whEAADA5xGIAACAzyMQAQAAn0cgAgAAPo9ABAAAfB6BCAAA+DwCEQAA8HkEIgAA4PMIRAAAwOcRiAAAgM8jEAEAAJ9HIAIAAD6PQAQAAHwegQgAAPg8AhEAAPB5BCIAAODzCEQAAMDnEYgAAIDPIxABAACfRyACAAA+j0AEAAB8HoEIAAD4PAIRAADweQQiAADg8whEAADA5xGIAACAzyMQAQAAn0cgAgAAPo9ABAAAfB6BCAAA+DwCEQAA8HkEIgAA4PMIRAAAwOcRiAAAgM8jEAEAAJ9HIAIAAD6PQAQAAHwegQgAAPg8AhEAAPB5BCIAAODzCEQAAMDnEYgAAIDPczoQHThwQAcPHrQ/37Bhg0aOHKm5c+e6tDAAAABPcToQ9e3bVytWrJAkZWVlKTk5WRs2bNDf/vY3Pf/88y4vEAAAwN2cDkTp6elq0aKFJOnDDz9UYmKi1qxZo/fff1/z5893dX0AAABu53QgOnPmjIKCgiRJy5YtU/fu3SVJ1113nTIzM11bHQAAgAc4HYhuuOEGvfbaa/ruu++UkpKiTp06SZIOHz6s6tWru7xAAAAAd3M6EE2dOlVz5sxRu3btdP/99+vGG2+UJH322Wf2U2kAAAAVicUYY5x9UVFRkXJzcxUWFmZv27dvn4KDgxUREeHSAsuL3NxcWa1W2Ww2hYaGerscAABQBmX9/a50OTv39/d3CEOSVLdu3cvZFQAAgNeVKRA1bdpU3377rcLCwnTzzTfLYrFctO+mTZtcVhwAAIAnlCkQ9ejRw76yrGfPnu6sBwAAwOMuaw6RL2IOEQAAFU9Zf7+dXmW2bNmyi26bM2eOs7sDAADwOqcD0d13363Ro0ersLDQ3nbkyBF169ZN48aNc2lxAAAAnuB0IFq9erWWLFmiW265Rdu2bdMXX3yhxMRE5efn66effnJHjQAAAG7ldCBq2bKlNm/erCZNmqhZs2bq1auXRo8ereXLlys2NtYdNQIAALiV04FIknbu3KmNGzeqVq1aqlSpkn7++WedPHnS1bUBAAB4hNOB6MUXX1RSUpKSk5OVnp6ujRs32keM1q5d644aAQAA3MrpQPTSSy/pk08+0SuvvKLKlSvrhhtu0IYNG9S7d2+1a9fODSUCAAC4l9O37ti6datq1Kjh0BYQEKB//vOf6tq1q8sKAwAA8BSnR4jOD0N/1LZt2ysqBgAAwBsu6+auGzdu1P/+7/9q//79DtcjkqRFixa5pDAAAABPcXqEaOHChbrtttu0fft2LV68WGfOnNH27du1fPlyWa1Wd9QIAADgVk4HosmTJ2vGjBn6/PPPFRgYqJdeekk7duxQnz59VLt2bXfUCAAA4FZOB6K9e/fq7rvvliQFBQXpxIkTslgseuqppzR37lyn9rV69Wp169ZNMTExslgs+uSTTxy2P/jgg7JYLA6PW2+91aFPQUGBhg0bpho1aqhq1arq3r27Dh486NAnJydHAwYMkNVqldVq1YABA3T8+HFnPzoAALhKOR2IwsPDlZeXJ0m69tprlZ6eLkk6fvy40xdnPHHihG688UbNmjXron06deqkzMxM++PLL7902D5y5EgtXrxYCxcu1Pfff6/8/Hx17dpVRUVF9j59+/ZVWlqali5dqqVLlyotLU0DBgxwqlYAAHD1cnpS9e23366UlBQ1btxYffr00YgRI7R8+XKlpKSoffv2Tu2rc+fO6ty58yX7BAUFKSoq6oLbbDab3nzzTb377rvq0KGDJGnBggWKjY3VsmXLdNddd2nHjh1aunSp1q1bp5YtW0qSXn/9dSUlJWnnzp1q1KiRUzUDAICrj9MjRLNmzdJf/vIXSdK4ceM0ZswY/fbbb+rdu7fefPNNlxe4cuVKRUREqGHDhnrkkUeUnZ1t35aamqozZ86oY8eO9raYmBglJiZqzZo1kqS1a9fKarXaw5Ak3XrrrbJarfY+F1JQUKDc3FyHBwAAuDo5PUIUHh5u/7Ofn5/Gjh2rsWPHurSoEp07d9a9996rOnXqKCMjQ+PHj9edd96p1NRUBQUFKSsrS4GBgQoLC3N4XWRkpLKysiRJWVlZioiIKLXviIgIe58LmTJliiZNmuTaDwQAAMqly7q5a4m7775bmZmZrqqllPvuu0933323EhMT1a1bN3311VfatWuXvvjii0u+zhgji8Vif/7HP1+sz/nGjRsnm81mfxw4cODyPwgAACjXrigQrV69WqdOnXJVLX8qOjpaderU0e7duyVJUVFRKiwsVE5OjkO/7OxsRUZG2vv89ttvpfZ15MgRe58LCQoKUmhoqMMDAABcna4oEHna0aNHdeDAAUVHR0uSmjVrpoCAAKWkpNj7ZGZmKj09Xa1atZIkJSUlyWazacOGDfY+69evl81ms/cBAAC+7bJu3VGiTp06CggIuOzX5+fna8+ePfbnGRkZSktLU3h4uMLDwzVx4kT9z//8j6Kjo7Vv3z797W9/U40aNdSrVy9JktVq1eDBgzV69GhVr15d4eHhGjNmjBo3bmxfdXb99derU6dOeuSRRzRnzhxJ0qOPPqquXbuywgwAAEi6jECUkZGhuLg4SbJfg+hy/fjjj7rjjjvsz0eNGiVJGjhwoGbPnq2tW7fqnXfe0fHjxxUdHa077rhDH3zwgUJCQuyvmTFjhipVqqQ+ffro1KlTat++vebPny9/f397n/fee0/Dhw+3r0br3r37Ja99BAAAfIvFGGOceYG/v7/atGmjwYMH65577lHlypXdVVu5kpubK6vVKpvNxnwiAAAqiLL+fjs9h+inn37SzTffrNGjRysqKkqPPfaYw/wcAACAisbpQJSYmKjp06fr0KFDmjdvnrKystS6dWvdcMMNmj59uo4cOeKOOgEAANzmsleZVapUSb169dKHH36oqVOnau/evRozZoxq1aqlBx54wK3XJwIAAHClyw5EP/74o5544glFR0dr+vTpGjNmjPbu3avly5fr0KFD6tGjhyvrBAAAcBunV5lNnz5d8+bN086dO9WlSxe988476tKli/z8zmWruLg4zZkzR9ddd53LiwUAAHAHpwPR7NmzNWjQID300EMXvQt97dq13XKjVwAAAHdwetm9r2LZPQAAFY/blt0DAABcbQhEAADA5xGIAACAzyMQAQAAn3dZgejs2bNatmyZ5syZo7y8PEnS4cOHlZ+f79LiAAAAPMHpZfe//vqrOnXqpP3796ugoEDJyckKCQnRtGnTdPr0ab322mvuqBMAAMBtnB4hGjFihJo3b66cnBxVqVLF3t6rVy99++23Li0OAADAE5weIfr+++/1ww8/KDAw0KG9Tp06OnTokMsKAwAA8BSnR4iKi4tVVFRUqv3gwYMKCQlxSVEAAACe5HQgSk5O1syZM+3PLRaL8vPzNWHCBHXp0sWVtQEAAHiE07fuOHz4sO644w75+/tr9+7dat68uXbv3q0aNWpo9erVioiIcFetXsWtOwAAqHjK+vvt9ByimJgYpaWl6b///a82bdqk4uJiDR48WP369XOYZA0AAFBRcHPXMmKECACAisdtI0SStGvXLq1cuVLZ2dkqLi522Pb//t//u5xdAgAAeI3Tgej111/X448/rho1aigqKkoWi8W+zWKxEIgAAECF43QgeuGFF/SPf/xDzzzzjDvqAQAA8Dinl93n5OTo3nvvdUctAAAAXuF0ILr33nv1zTffuKMWAAAAryjTKbOXX37Z/ucGDRpo/PjxWrdunRo3bqyAgACHvsOHD3dthQAAAG5WpmX3cXFxZduZxaJffvnliosqj1h2DwBAxePSZfcZGRkuKwwAAKC8cXoO0fPPP6+TJ0+Waj916pSef/55lxQFAADgSU5fqdrf31+ZmZml7ll29OhRRUREqKioyKUFlhecMgMAoOIp6++30yNExhiHizGW+OmnnxQeHu7s7gAAALyuzBdmDAsLk8VikcViUcOGDR1CUVFRkfLz8zVkyBC3FAkAAOBOZQ5EM2fOlDFGgwYN0qRJk2S1Wu3bAgMDVbduXSUlJbmlSAAAAHcqcyAaOHCgpHNL8G+77TZVqnRZ94UFAAAod5xONW3btnVHHQAAAF7j9KRqAACAqw2BCAAA+DwCEQAA8HlOBaKzZ8+qUqVKSk9Pd1c9AAAAHudUIKpUqZLq1Klz1V6NGgAA+CanT5k999xzGjdunI4dO+aOegAAADzO6WX3L7/8svbs2aOYmBjVqVNHVatWddi+adMmlxUHAADgCU4Hop49e7qhDAAAAO9x+m73voq73QMAUPGU9ff7su+/kZqaqh07dshisSghIUE333zz5e4KAADAq5wORNnZ2frLX/6ilStX6pprrpExRjabTXfccYcWLlyomjVruqNOAAAAt3F6ldmwYcOUm5urbdu26dixY8rJyVF6erpyc3M1fPhwd9QIAADgVk7PIbJarVq2bJluueUWh/YNGzaoY8eOOn78uCvrKzeYQwQAQMVT1t9vp0eIiouLFRAQUKo9ICBAxcXFzu4OAADA65wORHfeeadGjBihw4cP29sOHTqkp556Su3bt3dpcQAAAJ7gdCCaNWuW8vLyVLduXdWvX18NGjRQXFyc8vLy9Morr7ijRgAAALdyepVZbGysNm3apJSUFP38888yxighIUEdOnRwR30AAABuV6ZJ1eHh4dq1a5dq1KihQYMG6aWXXlJISIgn6is3mFQNAEDF49JJ1YWFhcrNzZUkvf322zp9+rRrqgQAACgHynTKLCkpST179lSzZs1kjNHw4cNVpUqVC/Z96623XFogAACAu5UpEC1YsEAzZszQ3r17ZbFYZLPZGCUCAABXDacvzBgXF6cff/xR1atXd1dN5RJziAAAqHjcdnPXjIyMKyoMAACgvHH6OkQAAABXGwIRAADweQQiAADg8whEAADA511WINq7d6+ee+453X///crOzpYkLV26VNu2bXNpcQAAAJ7gdCBatWqVGjdurPXr12vRokXKz8+XJG3ZskUTJkxweYEAAADu5nQg+utf/6oXXnhBKSkpCgwMtLffcccdWrt2rUuLAwAA8ASnA9HWrVvVq1evUu01a9bU0aNHXVIUAACAJzkdiK655hplZmaWat+8ebOuvfZalxQFAADgSU4Hor59++qZZ55RVlaWLBaLiouL9cMPP2jMmDF64IEH3FEjAACAWzkdiP7xj3+odu3auvbaa5Wfn6+EhAS1adNGrVq10nPPPeeOGgEAANzK6UAUEBCg9957T7t27dKHH36oBQsW6Oeff9a7774rf39/p/a1evVqdevWTTExMbJYLPrkk08cthtjNHHiRMXExKhKlSpq165dqaX9BQUFGjZsmGrUqKGqVauqe/fuOnjwoEOfnJwcDRgwQFarVVarVQMGDNDx48ed/egAAOAqddkXZqxfv77uuece9enTR/Hx8Ze1jxMnTujGG2/UrFmzLrh92rRpmj59umbNmqWNGzcqKipKycnJysvLs/cZOXKkFi9erIULF+r7779Xfn6+unbtqqKiInufvn37Ki0tTUuXLtXSpUuVlpamAQMGXFbNAADg6mMxxhhnXmCM0UcffaQVK1YoOztbxcXFDtsXLVp0eYVYLFq8eLF69uxpf5+YmBiNHDlSzzzzjKRzo0GRkZGaOnWqHnvsMdlsNtWsWVPvvvuu7rvvPknS4cOHFRsbqy+//FJ33XWXduzYoYSEBK1bt04tW7aUJK1bt05JSUn6+eef1ahRowvWU1BQoIKCAvvz3NxcxcbGymazKTQ09LI+IwAA8Kzc3FxZrdY//f12eoRoxIgRGjBggDIyMlStWjX7aaiSh6tkZGQoKytLHTt2tLcFBQWpbdu2WrNmjSQpNTVVZ86ccegTExOjxMREe5+1a9fKarXaw5Ak3XrrrbJarfY+FzJlyhSHzxUbG+uyzwYAAMqXSs6+YMGCBVq0aJG6dOnijnrssrKyJEmRkZEO7ZGRkfr111/tfQIDAxUWFlaqT8nrs7KyFBERUWr/ERER9j4XMm7cOI0aNcr+vGSECAAAXH2cDkRWq1X16tVzRy0XZLFYHJ4bY0q1ne/8Phfq/2f7CQoKUlBQkJPVAgCAisjpU2YTJ07UpEmTdOrUKXfUYxcVFSVJpUZxsrOz7aNGUVFRKiwsVE5OziX7/Pbbb6X2f+TIkVKjTwAAwDc5HYjuvfde5eTkKCIiQo0bN1bTpk0dHq4SFxenqKgopaSk2NsKCwu1atUqtWrVSpLUrFkzBQQEOPTJzMxUenq6vU9SUpJsNps2bNhg77N+/XrZbDZ7HwAA4NucPmX24IMPKjU1Vf3791dkZOSfnr66lPz8fO3Zs8f+PCMjQ2lpaQoPD1ft2rU1cuRITZ48WfHx8YqPj9fkyZMVHBysvn37Sjp3+m7w4MEaPXq0qlevrvDwcI0ZM0aNGzdWhw4dJEnXX3+9OnXqpEceeURz5syRJD366KPq2rXrRVeYAQAAH2OcFBwcbL777jtnX3ZBK1asMJJKPQYOHGiMMaa4uNhMmDDBREVFmaCgINOmTRuzdetWh32cOnXKDB061ISHh5sqVaqYrl27mv379zv0OXr0qOnXr58JCQkxISEhpl+/fiYnJ8epWm02m5FkbDbblXxkAADgQWX9/Xb6OkTXXXedPvzwQzVp0sTl4aw8K+t1DAAAQPnhtusQ/fvf/9bYsWO1b9++K6kPAACg3HB6DlH//v118uRJ1a9fX8HBwQoICHDYfuzYMZcVBwAA4AlOB6KZM2e6oQwAAADvcToQDRw40B11AAAAeI3TgeiPTp06pTNnzji0MeEYAABUNE5Pqj5x4oSGDh2qiIgIVatWTWFhYQ4PAACAisbpQDR27FgtX75cr776qoKCgvTGG29o0qRJiomJ0TvvvOOOGgEAANzK6VNmS5Ys0TvvvKN27dpp0KBBuv3229WgQQPVqVNH7733nvr16+eOOgEAANzG6RGiY8eOKS4uTtK5+UIly+xbt26t1atXu7Y6AAAAD3A6ENWrV89+UcaEhAR9+OGHks6NHF1zzTWurA0AAMAjnA5EDz30kH766SdJ0rhx4+xziZ566ik9/fTTLi8QAADA3Zy+l9n59u/frx9//FH169fXjTfe6Kq6yh3uZQYAQMVT1t/vK7oOkSTVrl1btWvXvtLdAAAAeM1lBaJvv/1W3377rbKzs1VcXOyw7a233nJJYQAAAJ7idCCaNGmSnn/+eTVv3lzR0dGyWCzuqAsAAMBjnA5Er732mubPn68BAwa4ox4AAACPc3qVWWFhoVq1auWOWgAAALzC6UD08MMP6/3333dHLQAAAF7h9Cmz06dPa+7cuVq2bJmaNGmigIAAh+3Tp093WXEAAACe4HQg2rJli2666SZJUnp6usM2JlgDAICKyOlAtGLFCnfUAQAA4DVOzyECAAC42hCIAACAzyMQAQAAn0cgAgAAPo9ABAAAfJ7Tq8w+++yzC7ZbLBZVrlxZDRo0UFxc3BUXBgAA4ClOB6KePXvKYrHIGOPQXtJmsVjUunVrffLJJwoLC3NZoQAAAO7i9CmzlJQU3XLLLUpJSZHNZpPNZlNKSopatGihzz//XKtXr9bRo0c1ZswYd9QLAADgck6PEI0YMUJz5851uMFr+/btVblyZT366KPatm2bZs6cqUGDBrm0UAAAAHdxeoRo7969Cg0NLdUeGhqqX375RZIUHx+v33///cqrAwAA8ACnA1GzZs309NNP68iRI/a2I0eOaOzYsbrlllskSbt371atWrVcVyUAAIAbOX3K7M0331SPHj1Uq1YtxcbGymKxaP/+/apXr54+/fRTSVJ+fr7Gjx/v8mIBAADcwWLOXy5WBsYYff3119q1a5eMMbruuuuUnJwsP7+r97JGubm5slqtstlsFzxlCAAAyp+y/n5fViDyRQQiAAAqnrL+fjt9ykySvv32W3377bfKzs5WcXGxw7a33nrrcnYJAADgNU4HokmTJun5559X8+bNFR0dLYvF4o66AAAAPMbpQPTaa69p/vz5GjBggDvqAQAA8DinZ0EXFhY6XJQRAACgonM6ED388MN6//333VELAACAVzh9yuz06dOaO3euli1bpiZNmiggIMBh+/Tp011WHAAAgCc4HYi2bNmim266SZKUnp7usI0J1gAAoCJyOhCtWLHCHXUAAAB4zdV7aWkAAIAyKtMIUe/evTV//nyFhoaqd+/el+y7aNEilxQGAADgKWUKRFar1T4/yGq1urUgAAAAT3PqXmbGGO3fv181a9ZUcHCwO+sqd7iXGQAAFU9Zf7+dmkNkjFF8fLwOHTp0xQUCAACUF04FIj8/P8XHx+vo0aPuqgcAAMDjnF5lNm3aND399NOlrkEEAABQUTk1h0iSwsLCdPLkSZ09e1aBgYGqUqWKw/Zjx465tMDygjlEAABUPGX9/Xb6wowzZ868kroAAADKHacD0cCBA91RBwAAgNc4HYgkqaioSJ988ol27Nghi8WihIQEde/eXf7+/q6uDwAAwO2cDkR79uxRly5ddOjQITVq1EjGGO3atUuxsbH64osvVL9+fXfUCQAA4DZOrzIbPny46tevrwMHDmjTpk3avHmz9u/fr7i4OA0fPtwdNQIAALiV0yNEq1at0rp16xQeHm5vq169ul588UXddtttLi0OAADAE5weIQoKClJeXl6p9vz8fAUGBrqkKAAAAE9yOhB17dpVjz76qNavXy9jjIwxWrdunYYMGaLu3bu7o0YAAAC3cjoQvfzyy6pfv76SkpJUuXJlVa5cWbfddpsaNGigl156yR01AgAAuJXTc4iuueYaffrpp9q9e7d27NghSUpISFCDBg1cXhwAAIAnXNZ1iCQpPj7eHoIsFovLCgIAAPA0p0+ZSdKbb76pxMRE+ymzxMREvfHGG66uDQAAwCOcHiEaP368ZsyYoWHDhikpKUmStHbtWj311FPat2+fXnjhBZcXCQAA4E5O3+2+Ro0aeuWVV3T//fc7tP/3v//VsGHD9Pvvv7u0wPKCu90DAFDxlPX32+lTZkVFRWrevHmp9mbNmuns2bPO7g4AAMDrnA5E/fv31+zZs0u1z507V/369XNJUQAAAJ5UpjlEo0aNsv/ZYrHojTfe0DfffKNbb71VkrRu3TodOHBADzzwgHuqBAAAcKMyjRBt3rzZ/ti6dauaNWummjVrau/evdq7d69q1qyppk2batu2bS4tbuLEibJYLA6PqKgo+3ZjjCZOnKiYmBhVqVJF7dq1K1VDQUGBhg0bpho1aqhq1arq3r27Dh486NI6AQBAxVamEaIVK1a4u46LuuGGG7Rs2TL7c39/f/ufp02bpunTp2v+/Plq2LChXnjhBSUnJ2vnzp0KCQmRJI0cOVJLlizRwoULVb16dY0ePVpdu3ZVamqqw74AAIDvuuwLM3pKpUqVHEaFShhjNHPmTD377LPq3bu3JOntt99WZGSk3n//fT322GOy2Wx688039e6776pDhw6SpAULFig2NlbLli3TXXfd5dHPAuDKFBUbbcg4puy804oIqawWceHy9+PCsACuXLkPRLt371ZMTIyCgoLUsmVLTZ48WfXq1VNGRoaysrLUsWNHe9+goCC1bdtWa9as0WOPPabU1FSdOXPGoU9MTIwSExO1Zs2aSwaigoICFRQU2J/n5ua65wMCKJOl6ZmatGS7Mm2n7W3R1sqa0C1BnRKjvVgZgKvBZV2p2lNatmypd955R19//bVef/11ZWVlqVWrVjp69KiysrIkSZGRkQ6viYyMtG/LyspSYGCgwsLCLtrnYqZMmSKr1Wp/xMbGuvCTAXDG0vRMPb5gk0MYkqQs22k9vmCTlqZneqkyAFeLch2IOnfurP/5n/9R48aN1aFDB33xxReSzp0aK3H+fdSMMX96b7Wy9Bk3bpxsNpv9ceDAgcv8FACuRFGx0aQl23WhK8iWtE1asl1FxU5dYxYAHJTrQHS+qlWrqnHjxtq9e7d9XtH5Iz3Z2dn2UaOoqCgVFhYqJyfnon0uJigoSKGhoQ4PAJ63IeNYqZGhPzKSMm2ntSHjmOeKAnDVuexAtH37di1dulSfffaZw8OdCgoKtGPHDkVHRysuLk5RUVFKSUmxby8sLNSqVavUqlUrSeeunh0QEODQJzMzU+np6fY+AMq37LyLh6HL6QcAF+L0pOpffvlFvXr10tatW2WxWFRyK7SSU1BFRUUuK27MmDHq1q2bateurezsbL3wwgvKzc3VwIEDZbFYNHLkSE2ePFnx8fGKj4/X5MmTFRwcrL59+0qSrFarBg8erNGjR6t69eoKDw/XmDFj7KfgAJR/ESGVXdoPAC7E6UA0YsQIxcXFadmyZapXr542bNigo0ePavTo0frXv/7l0uIOHjyo+++/X7///rtq1qypW2+9VevWrVOdOnUkSWPHjtWpU6f0xBNPKCcnRy1bttQ333xjvwaRJM2YMUOVKlVSnz59dOrUKbVv317z58/nGkRABdEiLlzR1srKsp2+4Dwii6Qo67kl+ABwuS7rbvfLly9XkyZNZLVatWHDBjVq1EjLly/X6NGjtXnzZnfV6lXc7R7wnpJVZpIcQlHJ0ojZ/Zuy9B7ABbn1bvfVqlWTdC4cHT58WJJUp04d7dy58zLLBYCL65QYrdn9myrK6nhaLMpamTAEwCWcPmWWmJioLVu2qF69emrZsqWmTZumwMBAzZ07V/Xq1XNHjQCgTonRSk6I4krVANzC6UD03HPP6cSJE5KkF154QV27dtXtt9+u6tWr64MPPnB5gQBQwt/PoqT61b1dBoCrkNNziC7k2LFjCgsL+9OLHVZkzCECAKDiKevvt0vuZRYezuoOAABQcVWoK1UDAAC4A4EIAAD4PAIRAADweQQiAADg8whEAADA5xGIAACAzyMQAQAAn0cgAgAAPo9ABAAAfB6BCAAA+DwCEQAA8HkEIgAA4PMIRAAAwOcRiAAAgM8jEAEAAJ9HIAIAAD6PQAQAAHwegQgAAPg8AhEAAPB5BCIAAODzCEQAAMDnEYgAAIDPIxABAACfRyACAAA+j0AEAAB8HoEIAAD4PAIRAADweZW8XQAAR0XFRhsyjik777QiQiqrRVy4/P0s3i4LAK5qBCKgHFmanqlJS7Yr03ba3hZtrawJ3RLUKTHai5UBwNWNU2ZAObE0PVOPL9jkEIYkKct2Wo8v2KSl6ZleqgwArn4EIqAcKCo2mrRku8wFtpW0TVqyXUXFF+oBALhSBCKgHNiQcazUyNAfGUmZttPakHHMc0UBgA8hEAHlQHbexcPQ5fQDADiHQASUAxEhlV3aDwDgHAIRUA60iAtXtLWyLra43qJzq81axIV7siwA8BkEIqAc8PezaEK3BEkqFYpKnk/olsD1iADATQhEQDnRKTFas/s3VZTV8bRYlLWyZvdvynWIAMCNuDAjUI50SoxWckIUV6oGAA8jEAHljL+fRUn1q3u7DADwKZwyAwAAPo9ABAAAfB6BCAAA+DwCEQAA8HlMqoZPKSo2rOACAJRCIILPWJqeqUlLtjvcRDXaWlkTuiVwjR8A8HGcMoNPWJqeqccXbCp1R/ks22k9vmCTlqZneqkyAEB5QCDCVa+o2GjSku0yF9hW0jZpyXYVFV+oBwDAFxCIcNXbkHGs1MjQHxlJmbbT2pBxzHNFAQDKFQIRrnrZeRcPQ5fTDwBw9SEQ4aoXEVL5zzs50Q8AcPVhlRnKLVctkW8RF65oa2Vl2U5fcB6RRefuKN8iLvyKawYAVEwEIpRLrlwi7+9n0YRuCXp8wSZZJIdQVBKvJnRL4HpEAODDOGWGcscdS+Q7JUZrdv+mirI6nhaLslbW7P5NuQ4RAPg4RohQrvzZEnmLzi2RT06IcnpEp1NitJITorhSNQCgFAIRyhVnlsgn1a/u9P79/SyX9ToAwNWNQASXccUkaJbIAwC8gUAEl3DVJGiWyAMAvIFJ1bikomKjtXuP6tO0Q1q79+gFb2/hyknQJUvkLzauZNG5oMUSeQCAKzFChIsqy6iPqydBs0QeAOANjBD5qD8b+SnrqI877hPGEnkAgKcxQuSD/mzkx5lRH3dNgmaJPADAkwhEFYSrbmNRMvJzftgpGfmZ3b+prFUCyzzq485J0CyRBwB4CoHIiwrPFuvdtfv067GTqhMerAFJdRVYqfRZTFet4CrryM/YTteVaX/ZeafVtUkM9wkDAFR4BCIvmfLldr3+XYb+OHXnH1/u0CO3x2lclwR7W1lGdMoaiso63+dYfkGZ9hcRUplJ0ACAq4JPTap+9dVXFRcXp8qVK6tZs2b67rvvvFLHlC+3a85qxzAkScVGmrM6Q1O+3C7pz0d0pHMjOhdaCn8hZZ3HE1410Kml70yCBgBUdD4zQvTBBx9o5MiRevXVV3Xbbbdpzpw56ty5s7Zv367atWt7rI7Cs8V6/buMS/Z5/bsMje54nVJ/zXHpbSzKOo8nylrF6VEfJkEDACoynxkhmj59ugYPHqyHH35Y119/vWbOnKnY2FjNnj3bo3W8u3ZfqZGh8xWbc/1cvYLLmYseXs6oT8kk6B43Xauk+tUJQwCACsMnRogKCwuVmpqqv/71rw7tHTt21Jo1ay74moKCAhUU/N9cmtzcXJfU8uuxk2XulxBjLVPfso78ODvfh1EfAICv8IkRot9//11FRUWKjIx0aI+MjFRWVtYFXzNlyhRZrVb7IzY21iW11AkPLnM/d9zGwtmRH0Z9AAC+wCdGiEpYLI4/5saYUm0lxo0bp1GjRtmf5+bmuiQUDUiqq398ueOSp838LOf6uWsFFyM/AAA48okRoho1asjf37/UaFB2dnapUaMSQUFBCg0NdXi4QmAlPz1ye9wl+zxye5z9ekTuWsHFyA8AAP/HJ0aIAgMD1axZM6WkpKhXr1729pSUFPXo0cPj9ZRcZ+j86xD5WVTqOkQSIzoAALibxRhTtovYVHAffPCBBgwYoNdee01JSUmaO3euXn/9dW3btk116tT509fn5ubKarXKZrO5bLSorFeqBgAAl6esv98+MUIkSffdd5+OHj2q559/XpmZmUpMTNSXX35ZpjDkLoGV/DT49npee38AAHCOz4wQXSl3jBABAAD3KuvvN+dnAACAzyMQAQAAn0cgAgAAPo9ABAAAfB6BCAAA+DwCEQAA8HkEIgAA4PMIRAAAwOf5zJWqr1TJ9Stzc3O9XAkAACirkt/tP7sONYGojPLy8iRJsbGxXq4EAAA4Ky8vT1ar9aLbuXVHGRUXF+vw4cMyxqh27do6cOAAt/AoR3JzcxUbG8txKYc4NuUTx6X84ti4ljFGeXl5iomJkZ/fxWcKMUJURn5+fqpVq5Z96C00NJS/qOUQx6X84tiUTxyX8otj4zqXGhkqwaRqAADg8whEAADA5xGInBQUFKQJEyYoKCjI26XgDzgu5RfHpnziuJRfHBvvYFI1AADweYwQAQAAn0cgAgAAPo9ABAAAfB6BCAAA+DwCkRNeffVVxcXFqXLlymrWrJm+++47b5fkc1avXq1u3bopJiZGFotFn3zyicN2Y4wmTpyomJgYValSRe3atdO2bdu8U6wPmTJlim655RaFhIQoIiJCPXv21M6dOx36cGw8b/bs2WrSpIn9An9JSUn66quv7Ns5JuXHlClTZLFYNHLkSHsbx8ezCERl9MEHH2jkyJF69tlntXnzZt1+++3q3Lmz9u/f7+3SfMqJEyd04403atasWRfcPm3aNE2fPl2zZs3Sxo0bFRUVpeTkZPu96OAeq1at0pNPPql169YpJSVFZ8+eVceOHXXixAl7H46N59WqVUsvvviifvzxR/3444+688471aNHD/uPKsekfNi4caPmzp2rJk2aOLRzfDzMoExatGhhhgwZ4tB23XXXmb/+9a9eqgiSzOLFi+3Pi4uLTVRUlHnxxRftbadPnzZWq9W89tprXqjQd2VnZxtJZtWqVcYYjk15EhYWZt544w2OSTmRl5dn4uPjTUpKimnbtq0ZMWKEMYb/ZryBEaIyKCwsVGpqqjp27OjQ3rFjR61Zs8ZLVeF8GRkZysrKcjhOQUFBatu2LcfJw2w2myQpPDxcEsemPCgqKtLChQt14sQJJSUlcUzKiSeffFJ33323OnTo4NDO8fE8bu5aBr///ruKiooUGRnp0B4ZGamsrCwvVYXzlRyLCx2nX3/91Rsl+SRjjEaNGqXWrVsrMTFREsfGm7Zu3aqkpCSdPn1a1apV0+LFi5WQkGD/UeWYeM/ChQu1adMmbdy4sdQ2/pvxPAKREywWi8NzY0ypNngfx8m7hg4dqi1btuj7778vtY1j43mNGjVSWlqajh8/ro8//lgDBw7UqlWr7Ns5Jt5x4MABjRgxQt98840qV6580X4cH8/hlFkZ1KhRQ/7+/qVGg7Kzs0uld3hPVFSUJHGcvGjYsGH67LPPtGLFCtWqVcvezrHxnsDAQDVo0EDNmzfXlClTdOONN+qll17imHhZamqqsrOz1axZM1WqVEmVKlXSqlWr9PLLL6tSpUr2Y8Dx8RwCURkEBgaqWbNmSklJcWhPSUlRq1atvFQVzhcXF6eoqCiH41RYWKhVq1ZxnNzMGKOhQ4dq0aJFWr58ueLi4hy2c2zKD2OMCgoKOCZe1r59e23dulVpaWn2R/PmzdWvXz+lpaWpXr16HB8P45RZGY0aNUoDBgxQ8+bNlZSUpLlz52r//v0aMmSIt0vzKfn5+dqzZ4/9eUZGhtLS0hQeHq7atWtr5MiRmjx5suLj4xUfH6/JkycrODhYffv29WLVV78nn3xS77//vj799FOFhITY/1VrtVpVpUoV+/VVODae9be//U2dO3dWbGys8vLytHDhQq1cuVJLly7lmHhZSEiIfY5diapVq6p69er2do6Ph3lvgVvF85///MfUqVPHBAYGmqZNm9qXFMNzVqxYYSSVegwcONAYc26p6oQJE0xUVJQJCgoybdq0MVu3bvVu0T7gQsdEkpk3b569D8fG8wYNGmT/f1bNmjVN+/btzTfffGPfzjEpX/647N4Yjo+nWYwxxktZDAAAoFxgDhEAAPB5BCIAAODzCEQAAMDnEYgAAIDPIxABAACfRyACAAA+j0AEAAB8HoEIAAD4PAIRUAFYLBZ98sknkqR9+/bJYrEoLS3tivY5ceJERUZGOuwbrpGVlaXk5GRVrVpV11xzjUfes27dupo5c6ZH3svdVq5cKYvFouPHj3u7FPgQAhHgg3bs2KFJkyZpzpw5yszMVOfOnb1d0lVlxowZyszMVFpamnbt2uXSfc+fP99jIctbWrVqpczMTFmtVm+XAh/CzV2BcqywsFCBgYEu3+/evXslST169JDFYnH5/n3d3r171axZM8XHx1/2Ps6cOaOAgAAXVlVxBAYGKioqyttlwMcwQgS4ydKlS9W6dWtdc801ql69urp27WoPIhfTrl07DR06VKNGjVKNGjWUnJx8yf7GGDVo0ED/+te/HNrT09Pl5+d3wfebOHGiunXrJkny8/OzB6J27dpp5MiRDn179uypBx980P68bt26mjx5sgYNGqSQkBDVrl1bc+fOtW8vOZ23aNEi3XHHHQoODtaNN96otWvXSpJOnDih0NBQffTRRw7vs2TJElWtWlV5eXkX/V6GDx+usWPHKjw8XFFRUZo4caJDn+nTp6tx48aqWrWqYmNj9cQTTyg/P9++vWRk5fPPP1ejRo0UHByse+65RydOnNDbb7+tunXrKiwsTMOGDVNRUZH9dYWFhRo7dqyuvfZaVa1aVS1bttTKlSsvWGfJd/Txxx/rnXfekcVisX9/+/fvV48ePVStWjWFhoaqT58++u233xyOy0033aS33npL9erVU1BQkM6/1eTKlSv10EMPyWazyWKxyGKxOHwPJ0+evOixkaRDhw7pvvvuU1hYmKpXr64ePXpo3759F/0szz//vGJiYnT06FF7W/fu3dWmTRsVFxdf9HXPPPOMGjZsqODgYNWrV0/jx4/XmTNnJJ37O9uhQwd16tTJ/vmOHz+u2rVr69lnn7V/zj+eMvv111/VrVs3hYWFqWrVqrrhhhv05ZdfXvT9gcvizTvLAlezjz76yHz88cdm165dZvPmzaZbt26mcePGpqio6KKvadu2ralWrZp5+umnzc8//2x27NhhjDl3N/nFixcbY4zJyMgwkszmzZuNMcb84x//MAkJCQ77eeqpp0ybNm0u+B55eXlm3rx5RpLJzMw0mZmZ9vf+4522jTGmR48eZuDAgfbnderUMeHh4eY///mP2b17t5kyZYrx8/Oz11lS23XXXWc+//xzs3PnTnPPPfeYOnXqmDNnzhhjjHnkkUdMly5dHN6nV69e5oEHHrjk9xIaGmomTpxodu3aZd5++21jsVgc7tw+Y8YMs3z5cvPLL7+Yb7/91jRq1Mg8/vjj9u3z5s0zAQEBJjk52WzatMmsWrXKVK9e3XTs2NH06dPHbNu2zSxZssQEBgaahQsX2l/Xt29f06pVK7N69WqzZ88e889//tMEBQWZXbt2XbDW7Oxs06lTJ9OnTx+TmZlpjh8/boqLi83NN99sWrdubX788Uezbt0607RpU9O2bVv76yZMmGCqVq1q7rrrLrNp0ybz008/meLiYod9FxQUmJkzZ5rQ0FD7scvLyyvTsTlx4oSJj483gwYNMlu2bDHbt283ffv2NY0aNTIFBQUX/Cxnz541SUlJpmfPnsYYY2bPnm2sVqvZt2/fRY+VMcb8/e9/Nz/88IPJyMgwn332mYmMjDRTp061bz948KAJCwszM2fONMYYc99995nmzZubwsJCY4wxK1asMJJMTk6OMcaYu+++2yQnJ5stW7aYvXv3miVLlphVq1ZdsgbAWQQiwEOys7ONJLN169aL9mnbtq256aabSrVfKhAdPnzY+Pv7m/Xr1xtjjCksLDQ1a9Y08+fPv+j7LF682Jz/76GyBqL+/fvbnxcXF5uIiAgze/Zsh9reeOMNe59t27YZSfYf5vXr1xt/f39z6NAhY4wxR44cMQEBAWblypWX/F5at27t0HbLLbeYZ5555qKv+fDDD0316tXtz0tC4J49e+xtjz32mAkODraHCmOMueuuu8xjjz1mjDFmz549xmKx2Gst0b59ezNu3LiLvvf539s333xj/P39zf79++1tJd/Lhg0bjDHnAlFAQIDJzs6+6H5LPofVai3V/mfH5s033zSNGjVyCFkFBQWmSpUq5uuvv77o++3du9eEhISYZ555xgQHB5sFCxZcsr4LmTZtmmnWrJlD24cffmiCgoLMuHHjTHBwsNm5c6d92/mBqHHjxmbixIlOvy/gDE6ZAW6yd+9e9e3bV/Xq1VNoaKji4uIknTt1cinNmzd36n2io6N1991366233pIkff755zp9+rTuvffeyyv8TzRp0sT+Z4vFoqioKGVnZ1+0T3R0tCTZ+7Ro0UI33HCD3nnnHUnSu+++q9q1a6tNmzZlft+S/f7xfVesWKHk5GRde+21CgkJ0QMPPKCjR4/qxIkT9j7BwcGqX7++/XlkZKTq1q2ratWqObSV7HfTpk0yxqhhw4aqVq2a/bFq1ao/Pf35Rzt27FBsbKxiY2PtbQkJCbrmmmu0Y8cOe1udOnVUs2bNMu/3fJc6NqmpqdqzZ49CQkLsnyM8PFynT5++5GepV6+e/vWvf2nq1Knq1q2b+vXrZ982ZMgQh++lxEcffaTWrVsrKipK1apV0/jx40v9vb/33nvVu3dvTZkyRf/+97/VsGHDi9YwfPhwvfDCC7rttts0YcIEbdmyxenvBvgzBCLATbp166ajR4/q9ddf1/r167V+/XpJ5+akXErVqlWdfq+HH35YCxcu1KlTpzRv3jzdd999Cg4Odmoffn5+peaslMz7+KPzJ/paLJZS80n+2KdkjtIf+zz88MOaN2+eJGnevHl66KGH/nRy96Xe99dff1WXLl2UmJiojz/+WKmpqfrPf/5T6jNcaB+X2m9xcbH8/f2VmpqqtLQ0+2PHjh166aWXLlnvHxljLvj5zm+/nGP/R3/2WZo1a+bwOUpWwfXt2/eS+129erX8/f21b98+nT171t7+/PPPO+xLktatW6e//OUv6ty5sz7//HNt3rxZzz77bKm/9ydPnlRqaqr8/f21e/fuS77/ww8/rF9++UUDBgzQ1q1b1bx5c73yyitl/VqAMiEQAW5w9OhR7dixQ88995zat2+v66+/Xjk5OW57vy5duqhq1aqaPXu2vvrqKw0aNMjpfdSsWVOZmZn250VFRUpPT3dlmXb9+/fX/v379fLLL2vbtm0aOHDgFe3vxx9/1NmzZ/Xvf/9bt956qxo2bKjDhw9fcZ0333yzioqKlJ2drQYNGjg8nFkFlZCQoP379+vAgQP2tu3bt8tms+n66693qqbAwECHSd9l1bRpU+3evVsRERGlPsullrd/8MEHWrRokVauXKkDBw7o73//u33b+fuSpB9++EF16tTRs88+q+bNmys+Pl6//vprqf2OHj1afn5++uqrr/Tyyy9r+fLll6w/NjZWQ4YM0aJFizR69Gi9/vrrTn8HwKUQiAA3KFnFM3fuXO3Zs0fLly/XqFGj3PZ+/v7+evDBBzVu3Dg1aNBASUlJTu/jzjvv1BdffKEvvvhCP//8s5544gm3XRgvLCxMvXv31tNPP62OHTuqVq1aV7S/+vXr6+zZs3rllVf0yy+/6N1339Vrr712xXU2bNhQ/fr10wMPPKBFixYpIyNDGzdu1NSpU51a5dShQwc1adJE/fr106ZNm7RhwwY98MADatu2rdOnSOvWrav8/Hx9++23+v3333Xy5Mkyva5fv36qUaOGevTooe+++04ZGRlatWqVRowYoYMHD17wNQcPHtTjjz+uqVOnqnXr1po/f76mTJmidevWXfR9GjRooP3792vhwoXau3evXn75ZS1evNihzxdffKG33npL7733npKTk/XXv/5VAwcOvOg/GkaOHKmvv/5aGRkZ2rRpk5YvX+50kAT+DIEIcAM/Pz8tXLhQqampSkxM1FNPPaV//vOfbn3PwYMHq7Cw8LJGhyRp0KBBGjhwoP2HOi4uTnfccYeLq/w/V1rvH910002aPn26pk6dqsTERL333nuaMmWKC6o8d0rvgQce0OjRo9WoUSN1795d69evd5gP9GdKrgYeFhamNm3aqEOHDqpXr54++OADp+tp1aqVhgwZovvuu081a9bUtGnTyvS64OBgrV69WrVr11bv3r11/fXXa9CgQTp16pRCQ0NL9TfG6MEHH1SLFi00dOhQSVJycrKGDh2q/v37O1zS4I969Oihp556SkOHDtVNN92kNWvWaPz48fbtR44c0eDBgzVx4kQ1bdpUkjRhwgTFxMRoyJAhF9xnUVGRnnzySV1//fXq1KmTGjVqpFdffbVMnxsoK4s5f9IAgArphx9+ULt27XTw4EFFRkZ6u5w/9d5772nEiBE6fPiwWy4+CQDO4ErVQAVXUFCgAwcOaPz48erTp0+5D0MnT55URkaGpkyZoscee4wwBKBc4JQZUMH997//VaNGjWSz2cp8+sSbpk2bpptuukmRkZEaN26ct8sBAEmcMgMAAGCECAAAgEAEAAB8HoEIAAD4PAIRAADweQQiAADg8whEAADA5xGIAACAzyMQAQAAn/f/AbIXVbUz1lPGAAAAAElFTkSuQmCC",
      "text/plain": [
       "<Figure size 640x480 with 1 Axes>"
      ]
     },
     "metadata": {},
     "output_type": "display_data"
    }
   ],
   "source": [
    "# Write your own code here\n",
    "\n",
    "\n",
    "list_numbers_x = [2,2,3,5,6,7,9,11,15,22,46]\n",
    "list_numbers_xsq = [4,4,9,25,36,49,81,121,225,484,2116]\n",
    "\n",
    "print(list(list_numbers_x))\n",
    "print(list_numbers_xsq)\n",
    "\n",
    "plt.scatter(x=list_numbers_x, y=list_numbers_xsq)\n",
    "plt.xlabel(\"a rlly funny name for the x-axis\")\n",
    "plt.ylabel(\"a boring name for the y-axis\")\n",
    "plt.show()\n",
    "\n",
    "\n",
    "\n"
   ]
  },
  {
   "attachments": {},
   "cell_type": "markdown",
   "metadata": {},
   "source": [
    "# <span style=\"color:darkblue\"> Additional Resources </span>\n",
    "\n",
    "<font size=\"5\"> \n",
    "\n",
    "Check out additional examples at:\n",
    "\n",
    "- https://allendowney.github.io/ElementsOfDataScience/01_variables.html\n",
    "- https://allendowney.github.io/ElementsOfDataScience/03_arrays.html\n",
    "\n"
   ]
  },
  {
   "attachments": {},
   "cell_type": "markdown",
   "metadata": {},
   "source": [
    "# <span style=\"color:darkblue\"> (Optional) Common Pitfalls </span>\n",
    "\n",
    "<font size=\"5\"> \n",
    "\n",
    "It's very common to enter a command incorrectly\n",
    "- There will be an arrow pointing to the problematic line\n",
    "- Focus on the message following \"NameError\""
   ]
  },
  {
   "attachments": {},
   "cell_type": "markdown",
   "metadata": {},
   "source": [
    "<font size=\"5\"> \n",
    "\n",
    "Pro Tip:\n",
    "- Type in google the message for \"NameError\" plus the word Python\n",
    "- Somebody may have a solution/explanation!"
   ]
  },
  {
   "attachments": {},
   "cell_type": "markdown",
   "metadata": {},
   "source": [
    "<font size=\"5\"> \n",
    "\n",
    "Example 1: Not including quotations"
   ]
  },
  {
   "cell_type": "code",
   "execution_count": 34,
   "metadata": {},
   "outputs": [],
   "source": [
    "hello = 'hello'"
   ]
  },
  {
   "cell_type": "code",
   "execution_count": 35,
   "metadata": {},
   "outputs": [
    {
     "ename": "NameError",
     "evalue": "name 'hellos' is not defined",
     "output_type": "error",
     "traceback": [
      "\u001b[0;31m---------------------------------------------------------------------------\u001b[0m",
      "\u001b[0;31mNameError\u001b[0m                                 Traceback (most recent call last)",
      "\u001b[0;32m/var/folders/1b/jzb9ndz97b5260fzr9d8kzyh5f7xd6/T/ipykernel_34142/2227594636.py\u001b[0m in \u001b[0;36m<module>\u001b[0;34m\u001b[0m\n\u001b[1;32m      1\u001b[0m \u001b[0;31m# When you don't include quotation marks,\u001b[0m\u001b[0;34m\u001b[0m\u001b[0;34m\u001b[0m\u001b[0m\n\u001b[1;32m      2\u001b[0m \u001b[0;31m# Python will try to search for a variable called Hello\u001b[0m\u001b[0;34m\u001b[0m\u001b[0;34m\u001b[0m\u001b[0m\n\u001b[0;32m----> 3\u001b[0;31m \u001b[0mtype\u001b[0m\u001b[0;34m(\u001b[0m\u001b[0mhellos\u001b[0m\u001b[0;34m)\u001b[0m\u001b[0;34m\u001b[0m\u001b[0;34m\u001b[0m\u001b[0m\n\u001b[0m",
      "\u001b[0;31mNameError\u001b[0m: name 'hellos' is not defined"
     ]
    }
   ],
   "source": [
    "# When you don't include quotation marks,\n",
    "# Python will try to search for a variable called Hello\n",
    "type(hellos)"
   ]
  },
  {
   "cell_type": "code",
   "execution_count": null,
   "metadata": {},
   "outputs": [
    {
     "data": {
      "text/plain": [
       "str"
      ]
     },
     "execution_count": 48,
     "metadata": {},
     "output_type": "execute_result"
    }
   ],
   "source": [
    "# This commands works if we already defined a variable, e.g.\n",
    "type(message_hello)"
   ]
  },
  {
   "attachments": {},
   "cell_type": "markdown",
   "metadata": {},
   "source": [
    "<font size=\"5\"> \n",
    "\n",
    "Examples 2: Operations with mixed types don't work"
   ]
  },
  {
   "cell_type": "code",
   "execution_count": null,
   "metadata": {},
   "outputs": [
    {
     "name": "stdout",
     "output_type": "stream",
     "text": [
      "hola3\n"
     ]
    }
   ],
   "source": [
    "# If you add a number and a string you get a concatenated string\n",
    "print(\"hola\" + str(number3))"
   ]
  },
  {
   "cell_type": "code",
   "execution_count": null,
   "metadata": {},
   "outputs": [
    {
     "name": "stdout",
     "output_type": "stream",
     "text": [
      "hola3\n"
     ]
    }
   ],
   "source": [
    "# You can convert an integer to string first\n",
    "print(\"hola\" + str(number3))"
   ]
  },
  {
   "attachments": {},
   "cell_type": "markdown",
   "metadata": {},
   "source": [
    "<font size=\"5\"> \n",
    "\n",
    "Examples 3: Not all mathematical operations on numeric lists work\n",
    "\n",
    "- We need a different object: arrays!\n",
    "- We'll look into this in future classes"
   ]
  },
  {
   "cell_type": "code",
   "execution_count": null,
   "metadata": {},
   "outputs": [
    {
     "data": {
      "text/plain": [
       "[1, 2, 3, 4, 5, 2]"
      ]
     },
     "execution_count": 66,
     "metadata": {},
     "output_type": "execute_result"
    }
   ],
   "source": [
    "list(list_numbers) + [2]"
   ]
  }
 ],
 "metadata": {
  "kernelspec": {
   "display_name": "base",
   "language": "python",
   "name": "python3"
  },
  "language_info": {
   "codemirror_mode": {
    "name": "ipython",
    "version": 3
   },
   "file_extension": ".py",
   "mimetype": "text/x-python",
   "name": "python",
   "nbconvert_exporter": "python",
   "pygments_lexer": "ipython3",
   "version": "3.12.7"
  },
  "orig_nbformat": 4
 },
 "nbformat": 4,
 "nbformat_minor": 2
}

{
 "cells": [
  {
   "cell_type": "markdown",
   "metadata": {},
   "source": [
    "# Assignment 4"
   ]
  },
  {
   "cell_type": "markdown",
   "metadata": {},
   "source": [
    "## Submit as an HTML file"
   ]
  },
  {
   "cell_type": "markdown",
   "metadata": {},
   "source": [
    "<font size = \"5\">\n",
    "Print your name and Emory ID below"
   ]
  },
  {
   "cell_type": "code",
   "execution_count": 3,
   "metadata": {},
   "outputs": [
    {
     "name": "stdout",
     "output_type": "stream",
     "text": [
      "Christina Dai\n",
      "2585695\n"
     ]
    }
   ],
   "source": [
    "print(\"Christina Dai\")\n",
    "print(\"2585695\")"
   ]
  },
  {
   "cell_type": "markdown",
   "metadata": {},
   "source": [
    "<font size = \"5\">\n",
    "Importing relevant libraries (matplotlib, NumPy)"
   ]
  },
  {
   "cell_type": "code",
   "execution_count": 3,
   "metadata": {},
   "outputs": [],
   "source": [
    "import matplotlib.pyplot as plt\n",
    "import numpy as np"
   ]
  },
  {
   "cell_type": "markdown",
   "metadata": {},
   "source": [
    "### a) For-loops and Conditional Statements  \n",
    "\n",
    "Using the list of test scores below, create a new list of students who made the honor roll (students with a grade greater than or equal to 90).  \n",
    "\n",
    "- Create a second list containing student names, where each name directly corresponds to a score in `test_scores`.  \n",
    "- Use a for loop to iterate through both lists and store the names and scores of students who made the honor roll in two new lists:  \n",
    "  - `honor_roll_names`: The names of students who made the honor roll.  \n",
    "  - `honor_roll_scores`: The scores of students who made the honor roll.  \n",
    "- Print the results of both lists."
   ]
  },
  {
   "cell_type": "code",
   "execution_count": 4,
   "metadata": {},
   "outputs": [],
   "source": [
    "test_scores = [85, 92, 88, 96, 75, 91, 89, 98, 72, 90]\n",
    "student_names = [\"Alice\", \"Bob\", \"Charlie\", \"David\", \"Eve\", \n",
    "                 \"Frank\", \"Grace\", \"Hannah\", \"Ivy\", \"Jack\"]"
   ]
  },
  {
   "cell_type": "code",
   "execution_count": 5,
   "metadata": {},
   "outputs": [
    {
     "name": "stdout",
     "output_type": "stream",
     "text": [
      "[92, 96, 91, 98, 90]\n",
      "['Bob', 'David', 'Frank', 'Hannah', 'Jack']\n"
     ]
    }
   ],
   "source": [
    "# Write your answer here\n",
    "\n",
    "honor_roll_names = []\n",
    "honor_roll_scores = []\n",
    "\n",
    "for i in range(len(test_scores)):\n",
    "    if test_scores[i] >= 90:\n",
    "        honor_roll_scores.append(test_scores[i])\n",
    "        honor_roll_names.append(student_names[i]) \n",
    "\n",
    "print(honor_roll_scores)\n",
    "print(honor_roll_names)"
   ]
  },
  {
   "cell_type": "markdown",
   "metadata": {},
   "source": [
    "### b) Follow-up to Part (a)  \n",
    "\n",
    "Using NumPy, perform the following operations on the `honor_roll_scores` list:  \n",
    "\n",
    "- Count and print the total number of students who made the honor roll using `np.size()`.  \n",
    "- Calculate and print the average score of the students on the honor roll using `np.mean()`.  \n",
    "- Determine and print the highest score from the honor roll using `np.max()`.  \n",
    "- Print the total number of students, average score and the highest score found.\n",
    "\n",
    "#### Hint:  \n",
    "First convert the scores array to a NumPy array.<br>\n",
    "Use the following NumPy functions where necessary:  \n",
    "- [`np.size()`](https://numpy.org/doc/stable/reference/generated/numpy.size.html)  \n",
    "- [`np.mean()`](https://numpy.org/doc/stable/reference/generated/numpy.mean.html)  \n",
    "- [`np.max()`](https://numpy.org/doc/stable/reference/generated/numpy.amax.html)  "
   ]
  },
  {
   "cell_type": "code",
   "execution_count": 6,
   "metadata": {},
   "outputs": [
    {
     "name": "stdout",
     "output_type": "stream",
     "text": [
      "[92 96 91 98 90]\n",
      "5\n",
      "93.4\n",
      "98\n"
     ]
    }
   ],
   "source": [
    "#Write your answer here\n",
    "\n",
    "honor_roll_scores = np.array([92,96,91,98,90])\n",
    "\n",
    "print(honor_roll_scores)\n",
    "\n",
    "print(np.size(honor_roll_scores))\n",
    "print(np.mean(honor_roll_scores))\n",
    "print(np.max(honor_roll_scores))"
   ]
  },
  {
   "cell_type": "markdown",
   "metadata": {},
   "source": [
    "<font size = '5'>\n",
    "c) For-loops + plotting\n",
    "\n",
    "<font size = \"3\">\n",
    "\n",
    "   - Create an array of x-values with all the integers between 1 and 15.\n",
    "   - Create a vector ```vec_y1``` where each element is computed from the formula <br> $ y_1 = 3x^3 + 5x^2 - x$.\n",
    "   - Create a vector ```vec_y2``` where each element is computed from the formula <br> $ y_2 = x^4 - 6x^2 + 2x$.\n",
    "   - Create an object ```list_vectors``` with elements ```vec_y1``` and ```vec_y2```.\n",
    "   - Create a for-loop that goes through each element of ```list_vectors``` and plots each list of $y$ values against $x$.\n",
    "\n",
    "Note: The final output should be a 2-dimensional scatter plot with two sets of points, with the $y_1$ and $y_2$ on the vertical axis, and the $x$ values <br>\n",
    "on the horizontal axis. Remember to always label the axes and add a title to the plot to make it look more professional."
   ]
  },
  {
   "cell_type": "code",
   "execution_count": 171,
   "metadata": {},
   "outputs": [
    {
     "name": "stdout",
     "output_type": "stream",
     "text": [
      "[ 1  2  3  4  5  6  7  8  9 10 11 12 13 14 15]\n"
     ]
    },
    {
     "data": {
      "text/plain": [
       "<function matplotlib.pyplot.show(close=None, block=None)>"
      ]
     },
     "execution_count": 171,
     "metadata": {},
     "output_type": "execute_result"
    },
    {
     "data": {
      "image/png": "[encoded data removed]",
      "text/plain": [
       "<Figure size 640x480 with 1 Axes>"
      ]
     },
     "metadata": {},
     "output_type": "display_data"
    }
   ],
   "source": [
    "#Write your answer here\n",
    "\n",
    "x = np.arange(1,16)\n",
    "print (x)\n",
    "\n",
    "vec_y1 = 3*x**3 + 5*x**2 - x\n",
    "vec_y2 = x**4 - 6*x**2 +2*x\n",
    "\n",
    "list_vectors = (vec_y1 , vec_y2)\n",
    "\n",
    "for y_vec_values in list_vectors:\n",
    "    plt.scatter(x, y_vec_values)\n",
    "\n",
    "plt.xlabel(\"X-Values\")\n",
    "plt.ylabel(\"Y-Values\")\n",
    "plt.title(\"Graph of X and Y Values\")\n",
    "plt.show"
   ]
  },
  {
   "cell_type": "markdown",
   "metadata": {},
   "source": [
    "### d) Average grades, learn how to use zip()\n",
    "\n",
    "- Below, write a chunk of code that prints out the average grade for each student. The names and grades are given in the lists below.  \n",
    "- The program should print the student's name and their average grade, formatted like this: \n",
    "\n",
    "```\n",
    "Alice's average grade: 87.67\n",
    "Bob's average grade: 88.0\n",
    "Charlie's average grade: 89.33\n",
    "David's average grade: 96.0\n",
    "Eve's average grade: 78.33\n",
    "```\n",
    "\n",
    "Hints/Tips:\n",
    "- You can use zip() to iterate through multiple lists at once, making the code cleaner.\n",
    "- You can learn more about zip() here: [Python zip() Function](https://www.geeksforgeeks.org/zip-in-python/)\n",
    "- When you print the statements out, you can cast the average grade to a string using str()\n",
    "- Ignore the rounding, the number of decimal places in each calculated average grade does not matter."
   ]
  },
  {
   "cell_type": "code",
   "execution_count": 23,
   "metadata": {},
   "outputs": [],
   "source": [
    "student_names = [\"Alice\", \"Bob\", \"Charlie\", \"David\", \"Eve\"]\n",
    "grades1 = [85, 92, 88, 96, 75]\n",
    "grades2 = [90, 80, 89, 94, 82]\n",
    "grades3 = [88, 95, 91, 98, 78]"
   ]
  },
  {
   "cell_type": "code",
   "execution_count": 178,
   "metadata": {},
   "outputs": [
    {
     "name": "stdout",
     "output_type": "stream",
     "text": [
      "Alice's Average Grade:87.66666666666667\n",
      "Bob's Average Grade:89.0\n",
      "Charlie's Average Grade:89.33333333333333\n",
      "David's Average Grade:96.0\n",
      "Eve's Average Grade:78.33333333333333\n"
     ]
    }
   ],
   "source": [
    "# Write your answer here\n",
    "\n",
    "res = list(zip(student_names, grades1, grades2, grades3))\n",
    "\n",
    "for name, grade1, grade2, grade3 in res:\n",
    "    mean_grades = (grade1+grade2+grade3)/3\n",
    "    print(name + \"'s Average Grade:\" + str(mean_grades))\n",
    "    "
   ]
  },
  {
   "cell_type": "markdown",
   "metadata": {},
   "source": [
    "### e) Simulating and visualizing \n",
    "In order to recieve full credit, please answer the first question in the markdown cell below the code. Answer the second question by making your changes to the code chunk below.\n",
    "- How does the sample size and the number of simulations affect the distribution of the sample means in the code below?\n",
    "- Generate and plot multiple histograms with different sample sizes:\n",
    "    - Create at three histograms: one with a small sample size (e.g., 10), one with a medium sample size (e.g., 100), and one with a large sample size (e.g., 1000).\n",
    "    - Make sure that the number of simulations is the same for all three (set the number of simulations to 250)"
   ]
  },
  {
   "cell_type": "code",
   "execution_count": 170,
   "metadata": {},
   "outputs": [
    {
     "data": {
      "image/png": "[encoded data removed]",
      "text/plain": [
       "<Figure size 1500x400 with 3 Axes>"
      ]
     },
     "metadata": {},
     "output_type": "display_data"
    },
    {
     "data": {
      "text/plain": [
       "<Figure size 640x480 with 0 Axes>"
      ]
     },
     "metadata": {},
     "output_type": "display_data"
    }
   ],
   "source": [
    "num_simulations = 250\n",
    "sample_size = [10,100,1000]\n",
    "\n",
    "fig, list_subfig = plt.subplots(1,len(sample_size),figsize = [15,4])\n",
    "\n",
    "index = 0\n",
    "for sam_size in sample_size:\n",
    "\n",
    "    # The following command a vector null values, of length \"num_simulations\"\n",
    "    vec_xbar = [None] * num_simulations\n",
    "\n",
    "    for iteration in range(num_simulations):\n",
    "        vec_unif  = np.random.uniform(low = -2, high=2, size = sam_size)\n",
    "        vec_xbar[iteration] = vec_unif.mean()\n",
    "\n",
    "    list_subfig[index].hist(vec_xbar)\n",
    "    list_subfig[index].set_title(\"Distribution of Xbar with \" + str(sam_size))\n",
    "    list_subfig[index].set_ylabel(\"Frequency\")\n",
    "    list_subfig[index].set_xlabel(\"Values of Xbar\")\n",
    "    index = index +1\n",
    "\n",
    "plt.show()\n",
    "plt.tight_layout()\n"
   ]
  },
  {
   "cell_type": "markdown",
   "metadata": {},
   "source": [
    "### Write your answer in this cell"
   ]
  },
  {
   "cell_type": "code",
   "execution_count": null,
   "metadata": {},
   "outputs": [],
   "source": [
    "#Small sample (write your answer here)\n",
    "\n",
    "#With a small sample size, the histogram has an overall shape that is fatter than the other sample sizes\n",
    "#With a small number of simulations, the histogram barely resembles a bell shaped curve and is very spread out"
   ]
  },
  {
   "cell_type": "code",
   "execution_count": 12,
   "metadata": {},
   "outputs": [],
   "source": [
    "#Medium sample (write your answer here)\n",
    "\n",
    "#With a medium sample size, the histogram has an shape that is skinnier than the small sample sizes\n",
    "#With a medium number of simulations, the histogram starts to resemble a normal distribution bell shaped curve"
   ]
  },
  {
   "cell_type": "code",
   "execution_count": 11,
   "metadata": {},
   "outputs": [],
   "source": [
    "#Large sample (write your answer here)\n",
    "\n",
    "#With a large sample size, the histogram has an overall shape that is skinnier than the other sample sizes\n",
    "#With a large number of simulations, the histogram is very skinny and barely changes general shape from trial to trial (skinner bedcause values of Xbar range is much smaller)"
   ]
  }
 ],
 "metadata": {
  "kernelspec": {
   "display_name": "base",
   "language": "python",
   "name": "python3"
  },
  "language_info": {
   "codemirror_mode": {
    "name": "ipython",
    "version": 3
   },
   "file_extension": ".py",
   "mimetype": "text/x-python",
   "name": "python",
   "nbconvert_exporter": "python",
   "pygments_lexer": "ipython3",
   "version": "3.12.7"
  }
 },
 "nbformat": 4,
 "nbformat_minor": 2
}

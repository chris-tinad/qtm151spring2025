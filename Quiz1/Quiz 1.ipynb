{
 "cells": [
  {
   "attachments": {},
   "cell_type": "markdown",
   "metadata": {},
   "source": [
    "# <span style=\"color:darkblue\"> QTM 151 - Quiz 1 </span>"
   ]
  },
  {
   "attachments": {},
   "cell_type": "markdown",
   "metadata": {},
   "source": [
    "## Try to submit as an HTML file"
   ]
  },
  {
   "attachments": {},
   "cell_type": "markdown",
   "metadata": {},
   "source": [
    "<font size=\"5\"> \n",
    "\n",
    "Print your name below"
   ]
  },
  {
   "cell_type": "code",
   "execution_count": 2,
   "metadata": {},
   "outputs": [
    {
     "name": "stdout",
     "output_type": "stream",
     "text": [
      "Christina Dai\n"
     ]
    }
   ],
   "source": [
    "# Write your answer here\n",
    "\n",
    "print(\"Christina Dai\")"
   ]
  },
  {
   "attachments": {},
   "cell_type": "markdown",
   "metadata": {},
   "source": [
    "<font size = \"5\" >\n",
    "This quiz is open book \n",
    "\n",
    "- You can use the lecture notes\n",
    "- You will get partial credit for attempting the questions\n",
    "- To get full credit, the code should work as intended\n",
    "- You should <span style=\"color:red\"> NOT </span> communicate with other students\n",
    "\n",
    "Print the following message: <br>\n",
    "\n",
    "\"I will abide by Emory's code of conduct\"\n"
   ]
  },
  {
   "cell_type": "code",
   "execution_count": 3,
   "metadata": {},
   "outputs": [
    {
     "name": "stdout",
     "output_type": "stream",
     "text": [
      "I will abide by Emory's code of conduct\n"
     ]
    }
   ],
   "source": [
    "# Write your answer here:\n",
    "\n",
    "print (\"I will abide by Emory's code of conduct\")"
   ]
  },
  {
   "attachments": {},
   "cell_type": "markdown",
   "metadata": {},
   "source": [
    "<font size = \"5\">\n",
    "\n",
    "Import the libraries \"numpy\", \"matplotlib.pytplot\", and \"pandas\""
   ]
  },
  {
   "cell_type": "code",
   "execution_count": 4,
   "metadata": {},
   "outputs": [],
   "source": [
    "# Write your answer here\n",
    "\n",
    "import matplotlib.pyplot as plt\n",
    "import numpy as np\n",
    "import pandas as pd"
   ]
  },
  {
   "cell_type": "markdown",
   "metadata": {},
   "source": [
    "<font size = \"5\">\n",
    "\n",
    "(a) IF/ELSE statements\n",
    "\n",
    "<font size = \"3\">\n",
    "\n",
    "- Create two lists: \n",
    "\n",
    "``` list_p = [\"Introduction\",\"to\",\"Python\"] ``` <br>\n",
    "``` list_r = [\"Intro\",\"to\",\"R\"] ```\n",
    "\n",
    "- Create a new variable ``` keyword = \"Introduction\" ```\n",
    "- Create an if/else that tests whether ``` keyword ``` is part of either <br>\n",
    "list.  Print your a message (you choose which message) if the test is true.\n",
    "\n",
    "HINT: Use the \"in\" command to test whether an element is part <br>\n",
    "of a list (see Lecture 4) \n",
    "\n",
    "\n"
   ]
  },
  {
   "cell_type": "code",
   "execution_count": 5,
   "metadata": {},
   "outputs": [
    {
     "name": "stdout",
     "output_type": "stream",
     "text": [
      "True\n"
     ]
    }
   ],
   "source": [
    "# Write your answer here:\n",
    "\n",
    "# importing lists\n",
    "list_p = [\"Introduction\",\"to\",\"Python\"]\n",
    "list_r = [\"Intro\",\"to\",\"R\"]\n",
    "\n",
    "keyword = \"Introduction\"\n",
    "\n",
    "if keyword in list_p:\n",
    "    print(\"True\")\n",
    "else:\n",
    "    print(\"False\")"
   ]
  },
  {
   "attachments": {},
   "cell_type": "markdown",
   "metadata": {},
   "source": [
    "<font size = \"5\">\n",
    "\n",
    "(a) Transform a list of values and plot it\n",
    "\n",
    "<font size = \"3\">\n",
    "\n",
    "- Create an array with the following values\n",
    "\n",
    "``` coord_x = [1,4, 0, -1, 20, 40] ```\n",
    "\n",
    "``` coord_y = [2,2, 0, 10, 0, 1] ```\n",
    "\n",
    "- Create a new vector ```hypotenuse``` with the following formula\n",
    "\n",
    "$\\qquad hypotenuse = x^2 + y^2$\n",
    "\n",
    "- Produce a  histogram of the variable hypotenuse\n",
    "- Label the axes and the title\n",
    "- Change the color to \"orange\", \"green\" or \"purple\" (you choose)\n",
    "\n",
    "Hint: You can use numpy functions"
   ]
  },
  {
   "cell_type": "code",
   "execution_count": 11,
   "metadata": {},
   "outputs": [
    {
     "name": "stdout",
     "output_type": "stream",
     "text": [
      "[array([ 1,  4,  0, -1, 20, 40]), array([ 2,  2,  0, 10,  0,  1])]\n"
     ]
    },
    {
     "data": {
      "image/png": "[encoded data removed]",
      "text/plain": [
       "<Figure size 640x480 with 1 Axes>"
      ]
     },
     "metadata": {},
     "output_type": "display_data"
    }
   ],
   "source": [
    "# Write your answer here:\n",
    "\n",
    "coord_x = (1,4, 0, -1, 20, 40)\n",
    "coord_y = (2,2, 0, 10, 0, 1) \n",
    "\n",
    "x = np.array(coord_x) #was incorrect because did not convert to array\n",
    "y = np.array(coord_y) #was incorrect because did not convert to array\n",
    "\n",
    "hypotenuse = x**2 + y**2\n",
    "\n",
    "array_xy = [x, y]\n",
    "\n",
    "print(array_xy)\n",
    "\n",
    "plt.hist(x=hypotenuse, color='green')\n",
    "plt.title(\"Graph of x^2 +y^2\")\n",
    "plt.xlabel(\"x values\")\n",
    "plt.ylabel(\"y values\")\n",
    "plt.show() \n"
   ]
  },
  {
   "attachments": {},
   "cell_type": "markdown",
   "metadata": {},
   "source": [
    "<font size = \"5\">\n",
    "\n",
    "(c) Plot random variables ...\n",
    "\n",
    "<font size = \"3\">\n",
    "\n",
    "- Let $n = 500$\n",
    "- Generate \"vec_x\" from a normal (loc = 0,scale = 1,size = n)\n",
    "- Generate \"vex_z\" from a normal (loc = 5,scale = 1,size = n)\n",
    "- Plot two histograms\n",
    "    - Label the axes and title\n",
    "    - Each graph should have a different title\n",
    " \n",
    "To get full points, plot the histograms on a single row using the <br>\n",
    "subplots syntax (see Lecture 6)"
   ]
  },
  {
   "cell_type": "code",
   "execution_count": null,
   "metadata": {},
   "outputs": [
    {
     "ename": "TypeError",
     "evalue": "object of type 'int' has no len()",
     "output_type": "error",
     "traceback": [
      "\u001b[0;31m---------------------------------------------------------------------------\u001b[0m",
      "\u001b[0;31mTypeError\u001b[0m                                 Traceback (most recent call last)",
      "Cell \u001b[0;32mIn[12], line 7\u001b[0m\n\u001b[1;32m      4\u001b[0m vec_x \u001b[38;5;241m=\u001b[39m (\u001b[38;5;241m0\u001b[39m, \u001b[38;5;241m1\u001b[39m, n)\n\u001b[1;32m      5\u001b[0m vec_y \u001b[38;5;241m=\u001b[39m (\u001b[38;5;241m5\u001b[39m, \u001b[38;5;241m1\u001b[39m, n)\n\u001b[0;32m----> 7\u001b[0m fig, list_subfig \u001b[38;5;241m=\u001b[39m plt\u001b[38;5;241m.\u001b[39msubplots(\u001b[38;5;241m1\u001b[39m,\u001b[38;5;28mlen\u001b[39m(\u001b[38;5;241m500\u001b[39m),figsize \u001b[38;5;241m=\u001b[39m [\u001b[38;5;241m15\u001b[39m,\u001b[38;5;241m4\u001b[39m])\n\u001b[1;32m      9\u001b[0m index \u001b[38;5;241m=\u001b[39m \u001b[38;5;241m0\u001b[39m\n\u001b[1;32m     10\u001b[0m \u001b[38;5;28;01mfor\u001b[39;00m sam_size \u001b[38;5;129;01min\u001b[39;00m sample_size:\n\u001b[1;32m     11\u001b[0m \n\u001b[1;32m     12\u001b[0m     \u001b[38;5;66;03m# The following command a vector null values, of length \"num_simulations\"\u001b[39;00m\n",
      "\u001b[0;31mTypeError\u001b[0m: object of type 'int' has no len()"
     ]
    }
   ],
   "source": [
    "\n",
    "# Fixed version\n",
    "num_simulations = 250\n",
    "n = 500\n",
    "\n",
    "vec_x = np.random.normal(loc=0, scale=1, size=n)\n",
    "vec_y = (loc=5, scale=1, size=n)\n",
    "\n",
    "\n",
    "\n",
    "#num_simulations = 250\n",
    "#n = (500, 500)\n",
    "\n",
    "#old version\n",
    "#vec_x = (0, 1, n)\n",
    "#vec_y = (5, 1, n)\n",
    "\n",
    "#fig, list_subfig = plt.subplots(1,len(500),figsize = [15,4])\n",
    "\n",
    "#index = 0\n",
    "#for sam_size in sample_size:\n",
    "\n",
    "    # The following command a vector null values, of length \"num_simulations\"\n",
    " #   vec_xbar = [None] * num_simulations\n",
    "\n",
    "#    for iteration in range(num_simulations):\n",
    " #       vec_unif  = np.random.uniform(low = -2, high=2, size = sam_size)\n",
    "  #      vec_xbar[iteration] = vec_unif.mean()\n",
    "#\n",
    " #   list_subfig[index].hist(vec_xbar)\n",
    "  #  list_subfig[index].set_title(\"Distribution of Xbar with \" + str(sam_size))\n",
    "   # list_subfig[index].set_ylabel(\"Frequency\")\n",
    "    #list_subfig[index].set_xlabel(\"Values of Xbar\")\n",
    "    #index = index +1\n"
   ]
  },
  {
   "cell_type": "markdown",
   "metadata": {},
   "source": [
    "<font size = \"5\">\n",
    "\n",
    "(d) Combine information across datasets\n",
    "\n",
    "<font size = \"3\">\n",
    "\n",
    "- Read the dataset \"/data_quiz/germany_co2_emissions.csv\" and store it as \"data_germany\"\n",
    "- View the dataset, and see what variables it contains\n",
    "- Plot a figure on CO2 emissions with the following characteristics\n",
    "    - The yearly variable on the x-axis.\n",
    "    - Plots of Germany's CO2 emissions on the y-axis.\n",
    "    - Label the axes\n"
   ]
  },
  {
   "cell_type": "code",
   "execution_count": 67,
   "metadata": {},
   "outputs": [
    {
     "name": "stdout",
     "output_type": "stream",
     "text": [
      "    year  total_emissions\n",
      "0   1990    955310.000000\n",
      "1   1991    932550.000000\n",
      "2   1992    892820.000000\n",
      "3   1993    887060.000000\n",
      "4   1994    875900.000000\n",
      "5   1995    874660.000000\n",
      "6   1996    904340.000000\n",
      "7   1997    872650.000000\n",
      "8   1998    865250.000000\n",
      "9   1999    833590.000000\n",
      "10  2000    830280.000000\n",
      "11  2001    847680.000000\n",
      "12  2002    833380.004883\n",
      "13  2003    836789.978027\n",
      "14  2004    821070.007324\n",
      "15  2005    802380.004883\n",
      "16  2006    814409.973145\n",
      "17  2007    783799.987793\n",
      "18  2008    789690.002441\n",
      "19  2009    734809.997559\n",
      "20  2010    773070.007324\n",
      "21  2011    746479.980469\n",
      "22  2012    760130.004883\n",
      "23  2013    776150.024414\n",
      "24  2014    736010.009766\n",
      "25  2015    742309.997559\n",
      "26  2016    747150.024414\n",
      "27  2017    732200.012207\n",
      "28  2018    707700.012207\n",
      "29  2019    657400.024414\n"
     ]
    },
    {
     "ename": "NameError",
     "evalue": "name 'year' is not defined",
     "output_type": "error",
     "traceback": [
      "\u001b[0;31m---------------------------------------------------------------------------\u001b[0m",
      "\u001b[0;31mNameError\u001b[0m                                 Traceback (most recent call last)",
      "Cell \u001b[0;32mIn[67], line 6\u001b[0m\n\u001b[1;32m      3\u001b[0m data_germany \u001b[38;5;241m=\u001b[39m pd\u001b[38;5;241m.\u001b[39mread_csv(\u001b[38;5;124m\"\u001b[39m\u001b[38;5;124mdata_quiz/germany_co2_emissions.csv\u001b[39m\u001b[38;5;124m\"\u001b[39m)\n\u001b[1;32m      4\u001b[0m \u001b[38;5;28mprint\u001b[39m (data_germany)\n\u001b[0;32m----> 6\u001b[0m plt\u001b[38;5;241m.\u001b[39mscatter(year, total_emissions)\n\u001b[1;32m      7\u001b[0m plt\u001b[38;5;241m.\u001b[39mtitle(\u001b[38;5;124m\"\u001b[39m\u001b[38;5;124mGraph of Germany Emissions\u001b[39m\u001b[38;5;124m\"\u001b[39m)\n\u001b[1;32m      8\u001b[0m plt\u001b[38;5;241m.\u001b[39mxlabel(\u001b[38;5;124m\"\u001b[39m\u001b[38;5;124mYear\u001b[39m\u001b[38;5;124m\"\u001b[39m)\n",
      "\u001b[0;31mNameError\u001b[0m: name 'year' is not defined"
     ]
    }
   ],
   "source": [
    "# Write your answer here:\n",
    "\n",
    "data_germany = pd.read_csv(\"data_quiz/germany_co2_emissions.csv\")\n",
    "print (data_germany)\n",
    "\n",
    "plt.scatter(year, total_emissions)\n",
    "plt.title(\"Graph of Germany Emissions\")\n",
    "plt.xlabel(\"Year\")\n",
    "plt.ylabel(\"Emissions\")\n",
    "plt.show() \n"
   ]
  },
  {
   "attachments": {},
   "cell_type": "markdown",
   "metadata": {},
   "source": [
    "<font size = \"5\">\n",
    "\n",
    "(e) Loop through dfferent variables and plot\n",
    "\n",
    "\n",
    "<font size = \"3\">\n",
    "\n",
    "- Read the dataset \"data_quiz/wdi_ageprop_2020.csv\"\n",
    "- Create a list of variable names with the following elements:\n",
    "\n",
    "``` list_varnames = [\"percent_ages0to14\",\"percent_ages15to64\"]  ```\n",
    "\n",
    "- Run a for loop that computes the mean for each variable and print it on screen.\n"
   ]
  },
  {
   "cell_type": "code",
   "execution_count": 79,
   "metadata": {},
   "outputs": [
    {
     "ename": "TypeError",
     "evalue": "'list' object is not callable",
     "output_type": "error",
     "traceback": [
      "\u001b[0;31m---------------------------------------------------------------------------\u001b[0m",
      "\u001b[0;31mTypeError\u001b[0m                                 Traceback (most recent call last)",
      "Cell \u001b[0;32mIn[79], line 6\u001b[0m\n\u001b[1;32m      3\u001b[0m data_set_e \u001b[38;5;241m=\u001b[39m pd\u001b[38;5;241m.\u001b[39mread_csv(\u001b[38;5;124m\"\u001b[39m\u001b[38;5;124mdata_quiz/wdi_ageprop_2020.csv\u001b[39m\u001b[38;5;124m\"\u001b[39m)\n\u001b[1;32m      4\u001b[0m list_varnames \u001b[38;5;241m=\u001b[39m [\u001b[38;5;124m\"\u001b[39m\u001b[38;5;124mpercent_ages0to14\u001b[39m\u001b[38;5;124m\"\u001b[39m,\u001b[38;5;124m\"\u001b[39m\u001b[38;5;124mpercent_ages15to64\u001b[39m\u001b[38;5;124m\"\u001b[39m]\n\u001b[0;32m----> 6\u001b[0m \u001b[38;5;28mprint\u001b[39m( np\u001b[38;5;241m.\u001b[39mmean(list_varnames()) )\n",
      "\u001b[0;31mTypeError\u001b[0m: 'list' object is not callable"
     ]
    }
   ],
   "source": [
    "# Write your answer here:\n",
    "\n",
    "data_set_e = pd.read_csv(\"data_quiz/wdi_ageprop_2020.csv\")\n",
    "list_varnames = [\"percent_ages0to14\",\"percent_ages15to64\"]\n",
    "\n",
    "print( np.mean(list_varnames()) )"
   ]
  },
  {
   "cell_type": "markdown",
   "metadata": {},
   "source": [
    "<font size = \"5\">\n",
    "\n",
    "(f) Run loop through different datasets and compute statistics\n",
    "\n",
    "<font size = \"3\">\n",
    "\n",
    "- Create a list with the \".csv\" dataset names of two countries. For example, <br>\n",
    "``` [\"data_quiz/name1.csv\",\"data_quiz/name2.csv\"] ```\n",
    "\n",
    "- Create an empty list called ``` list_emissions ```\n",
    "\n",
    "- Run a for-loop over the list of dataset names. Inside the loop:\n",
    "    - Read the corresponding \".csv\" dataset.\n",
    "    - Compute the mean of \"total_emissions\" for each respective country, <br>\n",
    "    and store it as an element of ```list_emissions```\n",
    "\n",
    "- Print ```list_emissions```\n",
    "\n",
    "HINT: Use ```.append()``` (See Lecture 5)\n"
   ]
  },
  {
   "cell_type": "code",
   "execution_count": null,
   "metadata": {},
   "outputs": [
    {
     "ename": "TypeError",
     "evalue": "list expected at most 1 argument, got 2",
     "output_type": "error",
     "traceback": [
      "\u001b[0;31m---------------------------------------------------------------------------\u001b[0m",
      "\u001b[0;31mTypeError\u001b[0m                                 Traceback (most recent call last)",
      "Cell \u001b[0;32mIn[71], line 3\u001b[0m\n\u001b[1;32m      1\u001b[0m \u001b[38;5;66;03m# Write your answer here:\u001b[39;00m\n\u001b[0;32m----> 3\u001b[0m a_list \u001b[38;5;241m=\u001b[39m \u001b[38;5;28mlist\u001b[39m(\u001b[38;5;124m\"\u001b[39m\u001b[38;5;124mdata_quiz/china_co2_emissions.csv.csv\u001b[39m\u001b[38;5;124m\"\u001b[39m, \u001b[38;5;124m\"\u001b[39m\u001b[38;5;124mdata_quiz/korea_co2_emissions.csv\u001b[39m\u001b[38;5;124m\"\u001b[39m)\n\u001b[1;32m      5\u001b[0m list_emissions ()\n\u001b[1;32m      7\u001b[0m \u001b[38;5;28;01mfor\u001b[39;00m i \u001b[38;5;129;01min\u001b[39;00m \u001b[38;5;28mlist\u001b[39m:\n",
      "\u001b[0;31mTypeError\u001b[0m: list expected at most 1 argument, got 2"
     ]
    }
   ],
   "source": [
    "# Write your answer here:\n",
    "\n",
    "a_list = list(\"data_quiz/china_co2_emissions.csv.csv\", \"data_quiz/korea_co2_emissions.csv\")\n",
    "\n",
    "list_emissions ()\n",
    "\n",
    "for i in a_list:\n",
    "    pd.read_csv(\"data_quiz/china_co2_emissions.csv\")"
   ]
  }
 ],
 "metadata": {
  "kernelspec": {
   "display_name": "base",
   "language": "python",
   "name": "python3"
  },
  "language_info": {
   "codemirror_mode": {
    "name": "ipython",
    "version": 3
   },
   "file_extension": ".py",
   "mimetype": "text/x-python",
   "name": "python",
   "nbconvert_exporter": "python",
   "pygments_lexer": "ipython3",
   "version": "3.12.7"
  },
  "orig_nbformat": 4
 },
 "nbformat": 4,
 "nbformat_minor": 2
}
